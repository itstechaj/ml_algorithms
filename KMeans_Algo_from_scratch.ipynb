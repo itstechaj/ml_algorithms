{
  "nbformat": 4,
  "nbformat_minor": 0,
  "metadata": {
    "colab": {
      "provenance": [],
      "collapsed_sections": []
    },
    "kernelspec": {
      "name": "python3",
      "display_name": "Python 3"
    },
    "language_info": {
      "name": "python"
    }
  },
  "cells": [
    {
      "cell_type": "markdown",
      "source": [
        "#**K-means Algorithm from Scratch.**\n",
        ">*Comparison with KMeans Using Sklearn*\n"
      ],
      "metadata": {
        "id": "tC6tibl7IuI0"
      }
    },
    {
      "cell_type": "markdown",
      "source": [
        "###**import statements**"
      ],
      "metadata": {
        "id": "AlwrFhhsI8ub"
      }
    },
    {
      "cell_type": "code",
      "source": [
        "import pandas as pd\n",
        "import numpy as np\n",
        "import matplotlib.pyplot as plt\n",
        "import random\n",
        "from sklearn.cluster import KMeans\n",
        "from sklearn.datasets import load_iris\n",
        "from sklearn.preprocessing import MinMaxScaler"
      ],
      "metadata": {
        "id": "9R6bpmRGRwJB"
      },
      "execution_count": 1,
      "outputs": []
    },
    {
      "cell_type": "markdown",
      "source": [
        "###**Defining Helper functions**"
      ],
      "metadata": {
        "id": "qY-q6eY3JEea"
      }
    },
    {
      "cell_type": "code",
      "source": [
        "# defining helper function for our code.\n",
        "def scaleDf(df,colList=[]):\n",
        "    '''\n",
        "    scaleDf -> this function scale the value of features in df using MinMaxScaler\n",
        "    colList-> user can pass a list of features to scale otherwise all features are scaled\n",
        "    '''\n",
        "    scaler=MinMaxScaler()\n",
        "    #if colList is not given then take all columns\n",
        "    if(len(colList)==0):\n",
        "        colList=df.columns\n",
        "    df=pd.DataFrame(scaler.fit_transform(df[colList]),columns=colList)\n",
        "    return df\n",
        "\n",
        "\n",
        "def Clusters(df,labels):\n",
        "    '''\n",
        "    Cluters -> this function takes dataframe and labels as input and return the list of dataFrames\n",
        "                of seperated clusters (based on labels).\n",
        "    '''\n",
        "    #Convert labels to numpy array (for simplicity purpose)\n",
        "    labels=np.array(labels)\n",
        "    #target is label name\n",
        "    clusters=[]\n",
        "    uniq_val=len(np.unique(labels))\n",
        "    for i in range(uniq_val):\n",
        "        clusters.append(df[labels==i])\n",
        "    return clusters\n",
        "\n",
        "\n",
        "def plotClusters(clusters):\n",
        "    '''\n",
        "    plotClusters -> it takes a list of DataFrames(clusters) where every dataFrame is a cluster and plot it using scatter plot\n",
        "    '''\n",
        "    random.seed(408) #setting seed of random\n",
        "    #generating random colors for each clusters\n",
        "    if(len(clusters)>7):\n",
        "        colors=[(random.randint(0,255)/255,random.randint(0,255)/255,random.randint(0,255)/255) for i in range(len(clusters))]\n",
        "    else:\n",
        "        colors=['b', 'g', 'r', 'c', 'm', 'y', 'k']\n",
        "    for i,cluster in enumerate(clusters):\n",
        "        cols=cluster.columns\n",
        "        plt.scatter(cluster[cols[0]],cluster[cols[1]],color=colors[i],label=str(i))\n",
        "        plt.xlabel(cols[0])\n",
        "        plt.ylabel(cols[1])\n",
        "    plt.legend()\n",
        "    plt.plot()\n",
        "\n"
      ],
      "metadata": {
        "id": "UFHHiTjXZ6oa"
      },
      "execution_count": 2,
      "outputs": []
    },
    {
      "cell_type": "markdown",
      "source": [
        "###**Distance class definition**\n",
        ">for calculating different type of distances between two n-dimensional points"
      ],
      "metadata": {
        "id": "6pqbSKoEBgU5"
      }
    },
    {
      "cell_type": "code",
      "source": [
        "class Distance:\n",
        "    def __init__(self,algo='eucledian',Power=2):\n",
        "        self.algo=algo\n",
        "        # Power -> power value used for MinKowski distance\n",
        "        self.P=Power\n",
        "\n",
        "    def calc(self,p1,p2):\n",
        "        '''\n",
        "        Input\n",
        "            p1,p2 -> numpy array of size d denoting  d-dimenstional points\n",
        "        Output\n",
        "            it returns the distance(in np.float64 dtype) based on the algo\n",
        "        '''\n",
        "        if self.algo=='minkowski':\n",
        "            return self.minkowskiDist(p1,p2,self.P)\n",
        "        elif self.algo=='eucledian':\n",
        "            return self.eucledianDist(p1,p2)\n",
        "        elif self.algo=='manhatten':\n",
        "            return self.manhattenDist(p1,p2)\n",
        "    \n",
        "    def algo(self):\n",
        "        '''\n",
        "         this function returns the names of algo's that we can use in this class\n",
        "        '''\n",
        "        return ['eucledian','minkowski','manhatten']\n",
        "\n",
        "    def minkowskiDist(self,p1,p2,P):\n",
        "        return np.power(np.sum(np.power(p2-p1,P)),1/P)\n",
        "    \n",
        "    def eucledianDist(self,p1,p2):\n",
        "        return np.sqrt(np.sum(np.square(p2-p1)))\n",
        "    \n",
        "    def manhattenDist(self,p1,p2):\n",
        "        return np.sum(np.absolute(p2-p1))"
      ],
      "metadata": {
        "id": "aJ5O_xSqBxPy"
      },
      "execution_count": 3,
      "outputs": []
    },
    {
      "cell_type": "markdown",
      "source": [
        "###**K-means Class Implementation**"
      ],
      "metadata": {
        "id": "qqXC4heWkkaJ"
      }
    },
    {
      "cell_type": "code",
      "source": [
        "# (Distance class must be there and executed for working of this K_Means Class)\n",
        "# My K_Means class starts here\n",
        "class K_Means:\n",
        "    def __init__(self,n_clusters=4,Distance_algo='eucledian',Power=2,n_init=1, max_iter=300,random_state=100):\n",
        "        self.K=n_clusters\n",
        "        self.Distance_algo=Distance_algo\n",
        "        self.Power=Power #Power used for Minkowski distance\n",
        "        self.n_init=10\n",
        "        self.max_iter=max_iter\n",
        "        self.random_state=random_state\n",
        "        #additional data attribute (similar to sklearn Kmeans)\n",
        "        self.cluster_centers_=np.array([])\n",
        "        self.labels_=np.array([])\n",
        "        self.inertia_=0\n",
        "        self.n_iter_=0\n",
        "        self.n_features_in_=0\n",
        "        self.feature_names_in_=np.array([])\n",
        "    \n",
        "    def get_params(self):\n",
        "        '''\n",
        "        Returns Kmeans Model parameters with their values\n",
        "        '''\n",
        "        params=dict()\n",
        "        params['n_clusters']=self.K\n",
        "        params['Distance_algo']=self.Distance_algo\n",
        "        params['Power']=self.Power\n",
        "        params['n_init']=self.n_init\n",
        "        params['max_iter']=self.max_iter\n",
        "        params['max_iter']=self.max_iter\n",
        "        params['random_state']=self.random_state\n",
        "        return params\n",
        "\n",
        "    def fit(self,df):\n",
        "        '''\n",
        "        Input\n",
        "            df -> a data frame containing n data points with d features each\n",
        "            random_state -> a random_state value to be used as seed for random\n",
        "        Output\n",
        "            the predicted cluster number corresponding to each point\n",
        "        '''\n",
        "        # creating points\n",
        "        pts=df.to_numpy(copy=True) #convert df to np array\n",
        "        n_init=self.n_init\n",
        "        '''\n",
        "        n_init -> Number of time the k-means algorithm will be run with different centroid seeds.\n",
        "        The final results will be the best output of n_init consecutive runs in terms of inertia.\n",
        "        '''\n",
        "        min_inertia=np.inf #store the minimum inertia across runs\n",
        "        while n_init:\n",
        "            # initially choose k random points as centroids\n",
        "            centroids=pts[self.K_uniq_rand_ints(self.K,len(pts),self.random_state+n_init)]\n",
        "            # clusters array will store cluster corresponding to every point\n",
        "            # initially starts cluster corresponding to every point as -1\n",
        "            clusters=[-1 for i in range(len(pts))]\n",
        "\n",
        "            # Iterating and assigning centroids untill no change in centroids\n",
        "            iteration=0\n",
        "            while True:\n",
        "                # Assign point to nearest Centroid\n",
        "                reassign_cnt=self.AssignCentroids(pts,centroids,clusters)\n",
        "                # update centroids based on reassignment\n",
        "                self.updateCentroids(pts,centroids,clusters)\n",
        "                # Loop break condition\n",
        "                if reassign_cnt==0 or iteration>self.max_iter:\n",
        "                    break\n",
        "                iteration+=1\n",
        "            # decrease n_init\n",
        "            n_init-=1\n",
        "            # calculating inertia\n",
        "            inertia=self.getInertia(pts,clusters,centroids)\n",
        "            # if clustering is better then update the parameters\n",
        "            if inertia<min_inertia:\n",
        "                min_inertia=inertia\n",
        "                # store attribute values\n",
        "                self.cluster_centers_=centroids\n",
        "                self.labels_=clusters\n",
        "                self.n_iter_=iteration\n",
        "                self.n_features_in_=len(pts[0])\n",
        "                self.feature_names_in_=np.array(df.columns)\n",
        "                self.inertia_=min_inertia\n",
        "        #return the cluster labels        \n",
        "        return self.labels_\n",
        "\n",
        "    def AssignCentroids(self,pts,centroids,clusters):\n",
        "        '''\n",
        "        Input:\n",
        "          pts -> data points\n",
        "          centroids -> Current cluster centroids\n",
        "          clusters -> clusters[i] is the cluster number of pts[i] point.\n",
        "        Output:\n",
        "          it returns number of cluster reassignment (no. of points for which cluster number changed)\n",
        "        '''\n",
        "        # reassign_ptr counts the reassignment of clusters\n",
        "        reassign_ptr=0\n",
        "        for i,point in enumerate(pts):\n",
        "            '''\n",
        "             for every point we find the nearest cluster centroid and if it is diffrent\n",
        "             than previous then we update the cluster no. of the point and increase the reassignment pointer\n",
        "            '''\n",
        "            nearest_cluster_num=self.get_nearest_centroid(point,centroids)\n",
        "            if nearest_cluster_num!=clusters[i]:\n",
        "                clusters[i]=nearest_cluster_num\n",
        "                reassign_ptr+=1\n",
        "        return reassign_ptr\n",
        "\n",
        "    def get_nearest_centroid(self,point,centroids):\n",
        "        '''\n",
        "        Input:\n",
        "          point -> the point of observation\n",
        "          centroids -> list of all centroids points\n",
        "        Output\n",
        "          it return the index number of nearest centroid point from the given point\n",
        "        '''\n",
        "        mindist=np.inf\n",
        "        # initialize the distance class with a particular algo\n",
        "        distance=Distance(algo=self.Distance_algo,Power=self.Power)\n",
        "        for idx,centroid in enumerate(centroids):\n",
        "            dist=distance.calc(point,centroid)\n",
        "            if dist<mindist:\n",
        "                min_dist_idx=idx\n",
        "                mindist=dist\n",
        "        return min_dist_idx\n",
        "      \n",
        "    def updateCentroids(self,pts,centroids,clusters):\n",
        "        '''\n",
        "        Input\n",
        "          pts -> data points\n",
        "          centroids -> centroid points(that needs to be updated)\n",
        "          clusters-> cluster array of points after reassignment\n",
        "        Output\n",
        "          returns nothing.\n",
        "          its Updtates the centroid points based on the Cluster array.\n",
        "          i.e centroids[i]=mean of all points have cluster number=i\n",
        "        '''\n",
        "        for cluster_num in np.unique(clusters):\n",
        "            #get all points with cluster value\n",
        "            cluster_points=pts[np.where(clusters==cluster_num)]\n",
        "            #update the centroid\n",
        "            centroids[cluster_num]=cluster_points.mean(axis=0)\n",
        "\n",
        "    def squared_distance_sum(self,points,centroid):\n",
        "        '''\n",
        "        this function returns the sum of square of distance of \n",
        "        every point in points from given centroid\n",
        "        '''\n",
        "        distance=Distance(algo=self.Distance_algo,Power=self.Power)\n",
        "        sum_squared_dist=0\n",
        "        for point in points:\n",
        "            sum_squared_dist+=np.square(distance.calc(point,centroid))\n",
        "        return sum_squared_dist\n",
        "\n",
        "    def getInertia(self,pts,clusters,centroids):\n",
        "        '''\n",
        "        Input \n",
        "          pts -> data points\n",
        "          clusters -> cluster number corresponding to data points\n",
        "          centroids -> cluster centers\n",
        "        Output\n",
        "          returns sum of squared distace from every point to there assigned cluster center\n",
        "        '''\n",
        "        total_squared_dist=0\n",
        "        for cluster_num in np.unique(clusters):\n",
        "            cluster_points=pts[np.where(clusters==cluster_num)]\n",
        "            centroid=centroids[cluster_num]\n",
        "            total_squared_dist+=self.squared_distance_sum(cluster_points,centroid)\n",
        "        return total_squared_dist\n",
        "\n",
        "    def predict(self,test_df):\n",
        "        '''\n",
        "        (prerequisite -> fit already executed (model already built))\n",
        "        Input :\n",
        "            df_test -> test data points\n",
        "        Ouput:\n",
        "            returns Cluster number corresponding to each test data point\n",
        "        '''\n",
        "        # Print error if models is prerequisite not satisfied\n",
        "        if(self.n_iter_==0):\n",
        "            print(\"\\tPlease Contruct and Fit the Model First (Run the Fit method)\\n\")\n",
        "            return np.array([])\n",
        "        test_pts=test_df.to_numpy(copy=True) #convert test_df to np array\n",
        "        labels=[-1 for i in range(len(test_pts))]\n",
        "        for i,point in enumerate(test_pts):\n",
        "            labels[i]=self.get_nearest_centroid(point,self.cluster_centers_)\n",
        "        return labels\n",
        "    \n",
        "    def specs(self):\n",
        "        '''\n",
        "        return Model Specifications (inertia and No. of features on which model trained )\n",
        "        '''\n",
        "        specs=dict()\n",
        "        specs['inertia_']=self.inertia_\n",
        "        specs['n_features_in_']=self.n_features_in_\n",
        "        return specs\n",
        "\n",
        "\n",
        "    # Helper Functions\n",
        "    def K_uniq_rand_ints(self,K,N,random_state):\n",
        "        '''\n",
        "        this function takes integer N as input and it generates K unique\n",
        "        integer values in range [0,N).\n",
        "        it return a numpy array containing unique random values\n",
        "        '''\n",
        "        # we use default_rng to construct a random generator using seed(its new method)\n",
        "        # in this function we use 2 layer of randomness\n",
        "        rng = np.random.default_rng(random_state)\n",
        "        idxs=np.arange(N)\n",
        "        rng.shuffle(idxs)\n",
        "        choosed_idxs=rng.choice(N,K,replace=False)\n",
        "        return idxs[choosed_idxs]\n",
        "\n",
        "# My K_Means class ends here"
      ],
      "metadata": {
        "id": "aaeJThq0kjeB"
      },
      "execution_count": 4,
      "outputs": []
    },
    {
      "cell_type": "markdown",
      "source": [
        "###**Loading Data and Refining**"
      ],
      "metadata": {
        "id": "RjGQxgUAbhf3"
      }
    },
    {
      "cell_type": "code",
      "source": [
        "# Loading iris dataset from pandas\n",
        "irisdata=load_iris()"
      ],
      "metadata": {
        "id": "9cG0-nZnTyzs"
      },
      "execution_count": 5,
      "outputs": []
    },
    {
      "cell_type": "code",
      "source": [
        "irisdata.target_names"
      ],
      "metadata": {
        "colab": {
          "base_uri": "https://localhost:8080/"
        },
        "id": "2Nu14hAtfR2U",
        "outputId": "d4302197-b8e3-4f80-9791-81c00c5a5ae6"
      },
      "execution_count": 6,
      "outputs": [
        {
          "output_type": "execute_result",
          "data": {
            "text/plain": [
              "array(['setosa', 'versicolor', 'virginica'], dtype='<U10')"
            ]
          },
          "metadata": {},
          "execution_count": 6
        }
      ]
    },
    {
      "cell_type": "code",
      "source": [
        "# storing iris dataset in pd DataFrame format in maindf\n",
        "maindf=pd.DataFrame(data=irisdata.data,columns=irisdata.feature_names)"
      ],
      "metadata": {
        "id": "EsIWj1JyUV4m"
      },
      "execution_count": 7,
      "outputs": []
    },
    {
      "cell_type": "code",
      "source": [
        "# Adding target column (label) in our maindf\n",
        "maindf[\"target\"]=irisdata.target"
      ],
      "metadata": {
        "id": "ztfZ7TJ_UW1m"
      },
      "execution_count": 8,
      "outputs": []
    },
    {
      "cell_type": "code",
      "source": [
        "# view of maindf\n",
        "maindf.head()"
      ],
      "metadata": {
        "colab": {
          "base_uri": "https://localhost:8080/",
          "height": 206
        },
        "id": "WOf216KBhf6O",
        "outputId": "110e62ec-ce30-47b8-e48e-e297b109cf45"
      },
      "execution_count": 9,
      "outputs": [
        {
          "output_type": "execute_result",
          "data": {
            "text/plain": [
              "   sepal length (cm)  sepal width (cm)  petal length (cm)  petal width (cm)  \\\n",
              "0                5.1               3.5                1.4               0.2   \n",
              "1                4.9               3.0                1.4               0.2   \n",
              "2                4.7               3.2                1.3               0.2   \n",
              "3                4.6               3.1                1.5               0.2   \n",
              "4                5.0               3.6                1.4               0.2   \n",
              "\n",
              "   target  \n",
              "0       0  \n",
              "1       0  \n",
              "2       0  \n",
              "3       0  \n",
              "4       0  "
            ],
            "text/html": [
              "\n",
              "  <div id=\"df-1648a4b6-7bab-4b79-b7d6-c821c2882d67\">\n",
              "    <div class=\"colab-df-container\">\n",
              "      <div>\n",
              "<style scoped>\n",
              "    .dataframe tbody tr th:only-of-type {\n",
              "        vertical-align: middle;\n",
              "    }\n",
              "\n",
              "    .dataframe tbody tr th {\n",
              "        vertical-align: top;\n",
              "    }\n",
              "\n",
              "    .dataframe thead th {\n",
              "        text-align: right;\n",
              "    }\n",
              "</style>\n",
              "<table border=\"1\" class=\"dataframe\">\n",
              "  <thead>\n",
              "    <tr style=\"text-align: right;\">\n",
              "      <th></th>\n",
              "      <th>sepal length (cm)</th>\n",
              "      <th>sepal width (cm)</th>\n",
              "      <th>petal length (cm)</th>\n",
              "      <th>petal width (cm)</th>\n",
              "      <th>target</th>\n",
              "    </tr>\n",
              "  </thead>\n",
              "  <tbody>\n",
              "    <tr>\n",
              "      <th>0</th>\n",
              "      <td>5.1</td>\n",
              "      <td>3.5</td>\n",
              "      <td>1.4</td>\n",
              "      <td>0.2</td>\n",
              "      <td>0</td>\n",
              "    </tr>\n",
              "    <tr>\n",
              "      <th>1</th>\n",
              "      <td>4.9</td>\n",
              "      <td>3.0</td>\n",
              "      <td>1.4</td>\n",
              "      <td>0.2</td>\n",
              "      <td>0</td>\n",
              "    </tr>\n",
              "    <tr>\n",
              "      <th>2</th>\n",
              "      <td>4.7</td>\n",
              "      <td>3.2</td>\n",
              "      <td>1.3</td>\n",
              "      <td>0.2</td>\n",
              "      <td>0</td>\n",
              "    </tr>\n",
              "    <tr>\n",
              "      <th>3</th>\n",
              "      <td>4.6</td>\n",
              "      <td>3.1</td>\n",
              "      <td>1.5</td>\n",
              "      <td>0.2</td>\n",
              "      <td>0</td>\n",
              "    </tr>\n",
              "    <tr>\n",
              "      <th>4</th>\n",
              "      <td>5.0</td>\n",
              "      <td>3.6</td>\n",
              "      <td>1.4</td>\n",
              "      <td>0.2</td>\n",
              "      <td>0</td>\n",
              "    </tr>\n",
              "  </tbody>\n",
              "</table>\n",
              "</div>\n",
              "      <button class=\"colab-df-convert\" onclick=\"convertToInteractive('df-1648a4b6-7bab-4b79-b7d6-c821c2882d67')\"\n",
              "              title=\"Convert this dataframe to an interactive table.\"\n",
              "              style=\"display:none;\">\n",
              "        \n",
              "  <svg xmlns=\"http://www.w3.org/2000/svg\" height=\"24px\"viewBox=\"0 0 24 24\"\n",
              "       width=\"24px\">\n",
              "    <path d=\"M0 0h24v24H0V0z\" fill=\"none\"/>\n",
              "    <path d=\"M18.56 5.44l.94 2.06.94-2.06 2.06-.94-2.06-.94-.94-2.06-.94 2.06-2.06.94zm-11 1L8.5 8.5l.94-2.06 2.06-.94-2.06-.94L8.5 2.5l-.94 2.06-2.06.94zm10 10l.94 2.06.94-2.06 2.06-.94-2.06-.94-.94-2.06-.94 2.06-2.06.94z\"/><path d=\"M17.41 7.96l-1.37-1.37c-.4-.4-.92-.59-1.43-.59-.52 0-1.04.2-1.43.59L10.3 9.45l-7.72 7.72c-.78.78-.78 2.05 0 2.83L4 21.41c.39.39.9.59 1.41.59.51 0 1.02-.2 1.41-.59l7.78-7.78 2.81-2.81c.8-.78.8-2.07 0-2.86zM5.41 20L4 18.59l7.72-7.72 1.47 1.35L5.41 20z\"/>\n",
              "  </svg>\n",
              "      </button>\n",
              "      \n",
              "  <style>\n",
              "    .colab-df-container {\n",
              "      display:flex;\n",
              "      flex-wrap:wrap;\n",
              "      gap: 12px;\n",
              "    }\n",
              "\n",
              "    .colab-df-convert {\n",
              "      background-color: #E8F0FE;\n",
              "      border: none;\n",
              "      border-radius: 50%;\n",
              "      cursor: pointer;\n",
              "      display: none;\n",
              "      fill: #1967D2;\n",
              "      height: 32px;\n",
              "      padding: 0 0 0 0;\n",
              "      width: 32px;\n",
              "    }\n",
              "\n",
              "    .colab-df-convert:hover {\n",
              "      background-color: #E2EBFA;\n",
              "      box-shadow: 0px 1px 2px rgba(60, 64, 67, 0.3), 0px 1px 3px 1px rgba(60, 64, 67, 0.15);\n",
              "      fill: #174EA6;\n",
              "    }\n",
              "\n",
              "    [theme=dark] .colab-df-convert {\n",
              "      background-color: #3B4455;\n",
              "      fill: #D2E3FC;\n",
              "    }\n",
              "\n",
              "    [theme=dark] .colab-df-convert:hover {\n",
              "      background-color: #434B5C;\n",
              "      box-shadow: 0px 1px 3px 1px rgba(0, 0, 0, 0.15);\n",
              "      filter: drop-shadow(0px 1px 2px rgba(0, 0, 0, 0.3));\n",
              "      fill: #FFFFFF;\n",
              "    }\n",
              "  </style>\n",
              "\n",
              "      <script>\n",
              "        const buttonEl =\n",
              "          document.querySelector('#df-1648a4b6-7bab-4b79-b7d6-c821c2882d67 button.colab-df-convert');\n",
              "        buttonEl.style.display =\n",
              "          google.colab.kernel.accessAllowed ? 'block' : 'none';\n",
              "\n",
              "        async function convertToInteractive(key) {\n",
              "          const element = document.querySelector('#df-1648a4b6-7bab-4b79-b7d6-c821c2882d67');\n",
              "          const dataTable =\n",
              "            await google.colab.kernel.invokeFunction('convertToInteractive',\n",
              "                                                     [key], {});\n",
              "          if (!dataTable) return;\n",
              "\n",
              "          const docLinkHtml = 'Like what you see? Visit the ' +\n",
              "            '<a target=\"_blank\" href=https://colab.research.google.com/notebooks/data_table.ipynb>data table notebook</a>'\n",
              "            + ' to learn more about interactive tables.';\n",
              "          element.innerHTML = '';\n",
              "          dataTable['output_type'] = 'display_data';\n",
              "          await google.colab.output.renderOutput(dataTable, element);\n",
              "          const docLink = document.createElement('div');\n",
              "          docLink.innerHTML = docLinkHtml;\n",
              "          element.appendChild(docLink);\n",
              "        }\n",
              "      </script>\n",
              "    </div>\n",
              "  </div>\n",
              "  "
            ]
          },
          "metadata": {},
          "execution_count": 9
        }
      ]
    },
    {
      "cell_type": "code",
      "source": [
        "# Finding the 2 most relevant features with which our label is closely correlated\n",
        "maindf.corr()\n",
        "# we can see using correlation matrix that 2 features are petal length (cm) & petal width (cm)"
      ],
      "metadata": {
        "colab": {
          "base_uri": "https://localhost:8080/",
          "height": 206
        },
        "id": "HWyUFKV4VwPu",
        "outputId": "9601d2c9-e19c-45f3-c0dc-bd644cc89240"
      },
      "execution_count": 10,
      "outputs": [
        {
          "output_type": "execute_result",
          "data": {
            "text/plain": [
              "                   sepal length (cm)  sepal width (cm)  petal length (cm)  \\\n",
              "sepal length (cm)           1.000000         -0.117570           0.871754   \n",
              "sepal width (cm)           -0.117570          1.000000          -0.428440   \n",
              "petal length (cm)           0.871754         -0.428440           1.000000   \n",
              "petal width (cm)            0.817941         -0.366126           0.962865   \n",
              "target                      0.782561         -0.426658           0.949035   \n",
              "\n",
              "                   petal width (cm)    target  \n",
              "sepal length (cm)          0.817941  0.782561  \n",
              "sepal width (cm)          -0.366126 -0.426658  \n",
              "petal length (cm)          0.962865  0.949035  \n",
              "petal width (cm)           1.000000  0.956547  \n",
              "target                     0.956547  1.000000  "
            ],
            "text/html": [
              "\n",
              "  <div id=\"df-6a9fb52b-1ed8-4aca-a931-9b9e94ef86f9\">\n",
              "    <div class=\"colab-df-container\">\n",
              "      <div>\n",
              "<style scoped>\n",
              "    .dataframe tbody tr th:only-of-type {\n",
              "        vertical-align: middle;\n",
              "    }\n",
              "\n",
              "    .dataframe tbody tr th {\n",
              "        vertical-align: top;\n",
              "    }\n",
              "\n",
              "    .dataframe thead th {\n",
              "        text-align: right;\n",
              "    }\n",
              "</style>\n",
              "<table border=\"1\" class=\"dataframe\">\n",
              "  <thead>\n",
              "    <tr style=\"text-align: right;\">\n",
              "      <th></th>\n",
              "      <th>sepal length (cm)</th>\n",
              "      <th>sepal width (cm)</th>\n",
              "      <th>petal length (cm)</th>\n",
              "      <th>petal width (cm)</th>\n",
              "      <th>target</th>\n",
              "    </tr>\n",
              "  </thead>\n",
              "  <tbody>\n",
              "    <tr>\n",
              "      <th>sepal length (cm)</th>\n",
              "      <td>1.000000</td>\n",
              "      <td>-0.117570</td>\n",
              "      <td>0.871754</td>\n",
              "      <td>0.817941</td>\n",
              "      <td>0.782561</td>\n",
              "    </tr>\n",
              "    <tr>\n",
              "      <th>sepal width (cm)</th>\n",
              "      <td>-0.117570</td>\n",
              "      <td>1.000000</td>\n",
              "      <td>-0.428440</td>\n",
              "      <td>-0.366126</td>\n",
              "      <td>-0.426658</td>\n",
              "    </tr>\n",
              "    <tr>\n",
              "      <th>petal length (cm)</th>\n",
              "      <td>0.871754</td>\n",
              "      <td>-0.428440</td>\n",
              "      <td>1.000000</td>\n",
              "      <td>0.962865</td>\n",
              "      <td>0.949035</td>\n",
              "    </tr>\n",
              "    <tr>\n",
              "      <th>petal width (cm)</th>\n",
              "      <td>0.817941</td>\n",
              "      <td>-0.366126</td>\n",
              "      <td>0.962865</td>\n",
              "      <td>1.000000</td>\n",
              "      <td>0.956547</td>\n",
              "    </tr>\n",
              "    <tr>\n",
              "      <th>target</th>\n",
              "      <td>0.782561</td>\n",
              "      <td>-0.426658</td>\n",
              "      <td>0.949035</td>\n",
              "      <td>0.956547</td>\n",
              "      <td>1.000000</td>\n",
              "    </tr>\n",
              "  </tbody>\n",
              "</table>\n",
              "</div>\n",
              "      <button class=\"colab-df-convert\" onclick=\"convertToInteractive('df-6a9fb52b-1ed8-4aca-a931-9b9e94ef86f9')\"\n",
              "              title=\"Convert this dataframe to an interactive table.\"\n",
              "              style=\"display:none;\">\n",
              "        \n",
              "  <svg xmlns=\"http://www.w3.org/2000/svg\" height=\"24px\"viewBox=\"0 0 24 24\"\n",
              "       width=\"24px\">\n",
              "    <path d=\"M0 0h24v24H0V0z\" fill=\"none\"/>\n",
              "    <path d=\"M18.56 5.44l.94 2.06.94-2.06 2.06-.94-2.06-.94-.94-2.06-.94 2.06-2.06.94zm-11 1L8.5 8.5l.94-2.06 2.06-.94-2.06-.94L8.5 2.5l-.94 2.06-2.06.94zm10 10l.94 2.06.94-2.06 2.06-.94-2.06-.94-.94-2.06-.94 2.06-2.06.94z\"/><path d=\"M17.41 7.96l-1.37-1.37c-.4-.4-.92-.59-1.43-.59-.52 0-1.04.2-1.43.59L10.3 9.45l-7.72 7.72c-.78.78-.78 2.05 0 2.83L4 21.41c.39.39.9.59 1.41.59.51 0 1.02-.2 1.41-.59l7.78-7.78 2.81-2.81c.8-.78.8-2.07 0-2.86zM5.41 20L4 18.59l7.72-7.72 1.47 1.35L5.41 20z\"/>\n",
              "  </svg>\n",
              "      </button>\n",
              "      \n",
              "  <style>\n",
              "    .colab-df-container {\n",
              "      display:flex;\n",
              "      flex-wrap:wrap;\n",
              "      gap: 12px;\n",
              "    }\n",
              "\n",
              "    .colab-df-convert {\n",
              "      background-color: #E8F0FE;\n",
              "      border: none;\n",
              "      border-radius: 50%;\n",
              "      cursor: pointer;\n",
              "      display: none;\n",
              "      fill: #1967D2;\n",
              "      height: 32px;\n",
              "      padding: 0 0 0 0;\n",
              "      width: 32px;\n",
              "    }\n",
              "\n",
              "    .colab-df-convert:hover {\n",
              "      background-color: #E2EBFA;\n",
              "      box-shadow: 0px 1px 2px rgba(60, 64, 67, 0.3), 0px 1px 3px 1px rgba(60, 64, 67, 0.15);\n",
              "      fill: #174EA6;\n",
              "    }\n",
              "\n",
              "    [theme=dark] .colab-df-convert {\n",
              "      background-color: #3B4455;\n",
              "      fill: #D2E3FC;\n",
              "    }\n",
              "\n",
              "    [theme=dark] .colab-df-convert:hover {\n",
              "      background-color: #434B5C;\n",
              "      box-shadow: 0px 1px 3px 1px rgba(0, 0, 0, 0.15);\n",
              "      filter: drop-shadow(0px 1px 2px rgba(0, 0, 0, 0.3));\n",
              "      fill: #FFFFFF;\n",
              "    }\n",
              "  </style>\n",
              "\n",
              "      <script>\n",
              "        const buttonEl =\n",
              "          document.querySelector('#df-6a9fb52b-1ed8-4aca-a931-9b9e94ef86f9 button.colab-df-convert');\n",
              "        buttonEl.style.display =\n",
              "          google.colab.kernel.accessAllowed ? 'block' : 'none';\n",
              "\n",
              "        async function convertToInteractive(key) {\n",
              "          const element = document.querySelector('#df-6a9fb52b-1ed8-4aca-a931-9b9e94ef86f9');\n",
              "          const dataTable =\n",
              "            await google.colab.kernel.invokeFunction('convertToInteractive',\n",
              "                                                     [key], {});\n",
              "          if (!dataTable) return;\n",
              "\n",
              "          const docLinkHtml = 'Like what you see? Visit the ' +\n",
              "            '<a target=\"_blank\" href=https://colab.research.google.com/notebooks/data_table.ipynb>data table notebook</a>'\n",
              "            + ' to learn more about interactive tables.';\n",
              "          element.innerHTML = '';\n",
              "          dataTable['output_type'] = 'display_data';\n",
              "          await google.colab.output.renderOutput(dataTable, element);\n",
              "          const docLink = document.createElement('div');\n",
              "          docLink.innerHTML = docLinkHtml;\n",
              "          element.appendChild(docLink);\n",
              "        }\n",
              "      </script>\n",
              "    </div>\n",
              "  </div>\n",
              "  "
            ]
          },
          "metadata": {},
          "execution_count": 10
        }
      ]
    },
    {
      "cell_type": "code",
      "source": [
        "# storing the original (Given) labels seperately\n",
        "# beacuse we are doing unsupervised learning so we do not require labels.\n",
        "labels=maindf['target']\n",
        "\n",
        "# Creating new dataframe 'df' with only our 2 most important features\n",
        "df=maindf.iloc[:,2:4]\n",
        "\n",
        "# changing column names of df for simplicity purpose\n",
        "col_names=['pl','pw'] #pl->petal length , pw-> petal width\n",
        "df.columns=col_names"
      ],
      "metadata": {
        "id": "xF7JHg4jXDIl"
      },
      "execution_count": 11,
      "outputs": []
    },
    {
      "cell_type": "code",
      "source": [
        "# View of df\n",
        "df.head()"
      ],
      "metadata": {
        "colab": {
          "base_uri": "https://localhost:8080/",
          "height": 206
        },
        "id": "sikutmRiUqqM",
        "outputId": "b5235d20-ba6a-4a05-860a-e83eddf36783"
      },
      "execution_count": 12,
      "outputs": [
        {
          "output_type": "execute_result",
          "data": {
            "text/plain": [
              "    pl   pw\n",
              "0  1.4  0.2\n",
              "1  1.4  0.2\n",
              "2  1.3  0.2\n",
              "3  1.5  0.2\n",
              "4  1.4  0.2"
            ],
            "text/html": [
              "\n",
              "  <div id=\"df-7ad57234-c7f5-44f5-b97d-632c786a5444\">\n",
              "    <div class=\"colab-df-container\">\n",
              "      <div>\n",
              "<style scoped>\n",
              "    .dataframe tbody tr th:only-of-type {\n",
              "        vertical-align: middle;\n",
              "    }\n",
              "\n",
              "    .dataframe tbody tr th {\n",
              "        vertical-align: top;\n",
              "    }\n",
              "\n",
              "    .dataframe thead th {\n",
              "        text-align: right;\n",
              "    }\n",
              "</style>\n",
              "<table border=\"1\" class=\"dataframe\">\n",
              "  <thead>\n",
              "    <tr style=\"text-align: right;\">\n",
              "      <th></th>\n",
              "      <th>pl</th>\n",
              "      <th>pw</th>\n",
              "    </tr>\n",
              "  </thead>\n",
              "  <tbody>\n",
              "    <tr>\n",
              "      <th>0</th>\n",
              "      <td>1.4</td>\n",
              "      <td>0.2</td>\n",
              "    </tr>\n",
              "    <tr>\n",
              "      <th>1</th>\n",
              "      <td>1.4</td>\n",
              "      <td>0.2</td>\n",
              "    </tr>\n",
              "    <tr>\n",
              "      <th>2</th>\n",
              "      <td>1.3</td>\n",
              "      <td>0.2</td>\n",
              "    </tr>\n",
              "    <tr>\n",
              "      <th>3</th>\n",
              "      <td>1.5</td>\n",
              "      <td>0.2</td>\n",
              "    </tr>\n",
              "    <tr>\n",
              "      <th>4</th>\n",
              "      <td>1.4</td>\n",
              "      <td>0.2</td>\n",
              "    </tr>\n",
              "  </tbody>\n",
              "</table>\n",
              "</div>\n",
              "      <button class=\"colab-df-convert\" onclick=\"convertToInteractive('df-7ad57234-c7f5-44f5-b97d-632c786a5444')\"\n",
              "              title=\"Convert this dataframe to an interactive table.\"\n",
              "              style=\"display:none;\">\n",
              "        \n",
              "  <svg xmlns=\"http://www.w3.org/2000/svg\" height=\"24px\"viewBox=\"0 0 24 24\"\n",
              "       width=\"24px\">\n",
              "    <path d=\"M0 0h24v24H0V0z\" fill=\"none\"/>\n",
              "    <path d=\"M18.56 5.44l.94 2.06.94-2.06 2.06-.94-2.06-.94-.94-2.06-.94 2.06-2.06.94zm-11 1L8.5 8.5l.94-2.06 2.06-.94-2.06-.94L8.5 2.5l-.94 2.06-2.06.94zm10 10l.94 2.06.94-2.06 2.06-.94-2.06-.94-.94-2.06-.94 2.06-2.06.94z\"/><path d=\"M17.41 7.96l-1.37-1.37c-.4-.4-.92-.59-1.43-.59-.52 0-1.04.2-1.43.59L10.3 9.45l-7.72 7.72c-.78.78-.78 2.05 0 2.83L4 21.41c.39.39.9.59 1.41.59.51 0 1.02-.2 1.41-.59l7.78-7.78 2.81-2.81c.8-.78.8-2.07 0-2.86zM5.41 20L4 18.59l7.72-7.72 1.47 1.35L5.41 20z\"/>\n",
              "  </svg>\n",
              "      </button>\n",
              "      \n",
              "  <style>\n",
              "    .colab-df-container {\n",
              "      display:flex;\n",
              "      flex-wrap:wrap;\n",
              "      gap: 12px;\n",
              "    }\n",
              "\n",
              "    .colab-df-convert {\n",
              "      background-color: #E8F0FE;\n",
              "      border: none;\n",
              "      border-radius: 50%;\n",
              "      cursor: pointer;\n",
              "      display: none;\n",
              "      fill: #1967D2;\n",
              "      height: 32px;\n",
              "      padding: 0 0 0 0;\n",
              "      width: 32px;\n",
              "    }\n",
              "\n",
              "    .colab-df-convert:hover {\n",
              "      background-color: #E2EBFA;\n",
              "      box-shadow: 0px 1px 2px rgba(60, 64, 67, 0.3), 0px 1px 3px 1px rgba(60, 64, 67, 0.15);\n",
              "      fill: #174EA6;\n",
              "    }\n",
              "\n",
              "    [theme=dark] .colab-df-convert {\n",
              "      background-color: #3B4455;\n",
              "      fill: #D2E3FC;\n",
              "    }\n",
              "\n",
              "    [theme=dark] .colab-df-convert:hover {\n",
              "      background-color: #434B5C;\n",
              "      box-shadow: 0px 1px 3px 1px rgba(0, 0, 0, 0.15);\n",
              "      filter: drop-shadow(0px 1px 2px rgba(0, 0, 0, 0.3));\n",
              "      fill: #FFFFFF;\n",
              "    }\n",
              "  </style>\n",
              "\n",
              "      <script>\n",
              "        const buttonEl =\n",
              "          document.querySelector('#df-7ad57234-c7f5-44f5-b97d-632c786a5444 button.colab-df-convert');\n",
              "        buttonEl.style.display =\n",
              "          google.colab.kernel.accessAllowed ? 'block' : 'none';\n",
              "\n",
              "        async function convertToInteractive(key) {\n",
              "          const element = document.querySelector('#df-7ad57234-c7f5-44f5-b97d-632c786a5444');\n",
              "          const dataTable =\n",
              "            await google.colab.kernel.invokeFunction('convertToInteractive',\n",
              "                                                     [key], {});\n",
              "          if (!dataTable) return;\n",
              "\n",
              "          const docLinkHtml = 'Like what you see? Visit the ' +\n",
              "            '<a target=\"_blank\" href=https://colab.research.google.com/notebooks/data_table.ipynb>data table notebook</a>'\n",
              "            + ' to learn more about interactive tables.';\n",
              "          element.innerHTML = '';\n",
              "          dataTable['output_type'] = 'display_data';\n",
              "          await google.colab.output.renderOutput(dataTable, element);\n",
              "          const docLink = document.createElement('div');\n",
              "          docLink.innerHTML = docLinkHtml;\n",
              "          element.appendChild(docLink);\n",
              "        }\n",
              "      </script>\n",
              "    </div>\n",
              "  </div>\n",
              "  "
            ]
          },
          "metadata": {},
          "execution_count": 12
        }
      ]
    },
    {
      "cell_type": "code",
      "source": [
        "# Scaling our both features using MinMaxScaler\n",
        "df=scaleDf(df)"
      ],
      "metadata": {
        "id": "r_wtYNR7Y39T"
      },
      "execution_count": 13,
      "outputs": []
    },
    {
      "cell_type": "code",
      "source": [
        "# View of df after scaling\n",
        "df.head()"
      ],
      "metadata": {
        "colab": {
          "base_uri": "https://localhost:8080/",
          "height": 206
        },
        "id": "Wz0Ot241Uzt7",
        "outputId": "13d5c925-391c-4419-eb0c-5c4bdc6419d0"
      },
      "execution_count": 14,
      "outputs": [
        {
          "output_type": "execute_result",
          "data": {
            "text/plain": [
              "         pl        pw\n",
              "0  0.067797  0.041667\n",
              "1  0.067797  0.041667\n",
              "2  0.050847  0.041667\n",
              "3  0.084746  0.041667\n",
              "4  0.067797  0.041667"
            ],
            "text/html": [
              "\n",
              "  <div id=\"df-73bf4333-772f-402c-89e6-0ddfda85f8bf\">\n",
              "    <div class=\"colab-df-container\">\n",
              "      <div>\n",
              "<style scoped>\n",
              "    .dataframe tbody tr th:only-of-type {\n",
              "        vertical-align: middle;\n",
              "    }\n",
              "\n",
              "    .dataframe tbody tr th {\n",
              "        vertical-align: top;\n",
              "    }\n",
              "\n",
              "    .dataframe thead th {\n",
              "        text-align: right;\n",
              "    }\n",
              "</style>\n",
              "<table border=\"1\" class=\"dataframe\">\n",
              "  <thead>\n",
              "    <tr style=\"text-align: right;\">\n",
              "      <th></th>\n",
              "      <th>pl</th>\n",
              "      <th>pw</th>\n",
              "    </tr>\n",
              "  </thead>\n",
              "  <tbody>\n",
              "    <tr>\n",
              "      <th>0</th>\n",
              "      <td>0.067797</td>\n",
              "      <td>0.041667</td>\n",
              "    </tr>\n",
              "    <tr>\n",
              "      <th>1</th>\n",
              "      <td>0.067797</td>\n",
              "      <td>0.041667</td>\n",
              "    </tr>\n",
              "    <tr>\n",
              "      <th>2</th>\n",
              "      <td>0.050847</td>\n",
              "      <td>0.041667</td>\n",
              "    </tr>\n",
              "    <tr>\n",
              "      <th>3</th>\n",
              "      <td>0.084746</td>\n",
              "      <td>0.041667</td>\n",
              "    </tr>\n",
              "    <tr>\n",
              "      <th>4</th>\n",
              "      <td>0.067797</td>\n",
              "      <td>0.041667</td>\n",
              "    </tr>\n",
              "  </tbody>\n",
              "</table>\n",
              "</div>\n",
              "      <button class=\"colab-df-convert\" onclick=\"convertToInteractive('df-73bf4333-772f-402c-89e6-0ddfda85f8bf')\"\n",
              "              title=\"Convert this dataframe to an interactive table.\"\n",
              "              style=\"display:none;\">\n",
              "        \n",
              "  <svg xmlns=\"http://www.w3.org/2000/svg\" height=\"24px\"viewBox=\"0 0 24 24\"\n",
              "       width=\"24px\">\n",
              "    <path d=\"M0 0h24v24H0V0z\" fill=\"none\"/>\n",
              "    <path d=\"M18.56 5.44l.94 2.06.94-2.06 2.06-.94-2.06-.94-.94-2.06-.94 2.06-2.06.94zm-11 1L8.5 8.5l.94-2.06 2.06-.94-2.06-.94L8.5 2.5l-.94 2.06-2.06.94zm10 10l.94 2.06.94-2.06 2.06-.94-2.06-.94-.94-2.06-.94 2.06-2.06.94z\"/><path d=\"M17.41 7.96l-1.37-1.37c-.4-.4-.92-.59-1.43-.59-.52 0-1.04.2-1.43.59L10.3 9.45l-7.72 7.72c-.78.78-.78 2.05 0 2.83L4 21.41c.39.39.9.59 1.41.59.51 0 1.02-.2 1.41-.59l7.78-7.78 2.81-2.81c.8-.78.8-2.07 0-2.86zM5.41 20L4 18.59l7.72-7.72 1.47 1.35L5.41 20z\"/>\n",
              "  </svg>\n",
              "      </button>\n",
              "      \n",
              "  <style>\n",
              "    .colab-df-container {\n",
              "      display:flex;\n",
              "      flex-wrap:wrap;\n",
              "      gap: 12px;\n",
              "    }\n",
              "\n",
              "    .colab-df-convert {\n",
              "      background-color: #E8F0FE;\n",
              "      border: none;\n",
              "      border-radius: 50%;\n",
              "      cursor: pointer;\n",
              "      display: none;\n",
              "      fill: #1967D2;\n",
              "      height: 32px;\n",
              "      padding: 0 0 0 0;\n",
              "      width: 32px;\n",
              "    }\n",
              "\n",
              "    .colab-df-convert:hover {\n",
              "      background-color: #E2EBFA;\n",
              "      box-shadow: 0px 1px 2px rgba(60, 64, 67, 0.3), 0px 1px 3px 1px rgba(60, 64, 67, 0.15);\n",
              "      fill: #174EA6;\n",
              "    }\n",
              "\n",
              "    [theme=dark] .colab-df-convert {\n",
              "      background-color: #3B4455;\n",
              "      fill: #D2E3FC;\n",
              "    }\n",
              "\n",
              "    [theme=dark] .colab-df-convert:hover {\n",
              "      background-color: #434B5C;\n",
              "      box-shadow: 0px 1px 3px 1px rgba(0, 0, 0, 0.15);\n",
              "      filter: drop-shadow(0px 1px 2px rgba(0, 0, 0, 0.3));\n",
              "      fill: #FFFFFF;\n",
              "    }\n",
              "  </style>\n",
              "\n",
              "      <script>\n",
              "        const buttonEl =\n",
              "          document.querySelector('#df-73bf4333-772f-402c-89e6-0ddfda85f8bf button.colab-df-convert');\n",
              "        buttonEl.style.display =\n",
              "          google.colab.kernel.accessAllowed ? 'block' : 'none';\n",
              "\n",
              "        async function convertToInteractive(key) {\n",
              "          const element = document.querySelector('#df-73bf4333-772f-402c-89e6-0ddfda85f8bf');\n",
              "          const dataTable =\n",
              "            await google.colab.kernel.invokeFunction('convertToInteractive',\n",
              "                                                     [key], {});\n",
              "          if (!dataTable) return;\n",
              "\n",
              "          const docLinkHtml = 'Like what you see? Visit the ' +\n",
              "            '<a target=\"_blank\" href=https://colab.research.google.com/notebooks/data_table.ipynb>data table notebook</a>'\n",
              "            + ' to learn more about interactive tables.';\n",
              "          element.innerHTML = '';\n",
              "          dataTable['output_type'] = 'display_data';\n",
              "          await google.colab.output.renderOutput(dataTable, element);\n",
              "          const docLink = document.createElement('div');\n",
              "          docLink.innerHTML = docLinkHtml;\n",
              "          element.appendChild(docLink);\n",
              "        }\n",
              "      </script>\n",
              "    </div>\n",
              "  </div>\n",
              "  "
            ]
          },
          "metadata": {},
          "execution_count": 14
        }
      ]
    },
    {
      "cell_type": "code",
      "source": [
        "# Actual (Given data) clusters\n",
        "given_clusters=Clusters(df,labels)\n",
        "# plotting original cluters\n",
        "plotClusters(given_clusters)"
      ],
      "metadata": {
        "colab": {
          "base_uri": "https://localhost:8080/",
          "height": 279
        },
        "id": "rcTX-ekAWFos",
        "outputId": "4813adfb-0f96-4270-dbe5-d138ca2be66f"
      },
      "execution_count": 15,
      "outputs": [
        {
          "output_type": "display_data",
          "data": {
            "text/plain": [
              "<Figure size 432x288 with 1 Axes>"
            ],
            "image/png": "[encoded data removed]"
          },
          "metadata": {
            "needs_background": "light"
          }
        }
      ]
    },
    {
      "cell_type": "markdown",
      "source": [
        "###**KMeans using of Sklearn Library**"
      ],
      "metadata": {
        "id": "ita0BpiGbqWu"
      }
    },
    {
      "cell_type": "code",
      "source": [
        "#creating our KMeans model using sklearn\n",
        "model=KMeans(n_clusters=3,random_state=0)\n",
        "#fit the df in our model\n",
        "model.fit(df)\n",
        "# predicted labels by model\n",
        "predicted_labels=pd.Series(model.labels_)"
      ],
      "metadata": {
        "id": "92p6BQUwZwaD"
      },
      "execution_count": 16,
      "outputs": []
    },
    {
      "cell_type": "code",
      "source": [
        "#Printing the sklearn KMeans Model specifications\n",
        "print(\"sklearn KMeans model Specifications :-\")\n",
        "print(\"Model Inertia = \",model.inertia_)\n",
        "print(\"Input Features = \",model.n_features_in_)\n",
        "print(\"Iteration Runned = \",model.n_iter_)\n",
        "print(\"\")"
      ],
      "metadata": {
        "colab": {
          "base_uri": "https://localhost:8080/"
        },
        "id": "SjWbXIfrVCJj",
        "outputId": "2170ef1d-5e45-42c2-caf8-3739c94b2aa4"
      },
      "execution_count": 17,
      "outputs": [
        {
          "output_type": "stream",
          "name": "stdout",
          "text": [
            "sklearn KMeans model Specifications :-\n",
            "Model Inertia =  1.701874688192097\n",
            "Input Features =  2\n",
            "Iteration Runned =  4\n",
            "\n"
          ]
        }
      ]
    },
    {
      "cell_type": "code",
      "source": [
        "# predicted clusters\n",
        "predicted_clusters=Clusters(df,predicted_labels)\n",
        "# plotting predicted cluters using sklearn K-means model\n",
        "'''\n",
        "Colors of clusters are diffrent because K-means is Unsupervised learning so,\n",
        "it autimatically put cluster names as 0,1,2...\n",
        "'''\n",
        "plotClusters(predicted_clusters)"
      ],
      "metadata": {
        "id": "aVFgE4J0Enxa",
        "colab": {
          "base_uri": "https://localhost:8080/",
          "height": 279
        },
        "outputId": "f8c7dffc-3230-40e0-810c-9088637f1c45"
      },
      "execution_count": 18,
      "outputs": [
        {
          "output_type": "display_data",
          "data": {
            "text/plain": [
              "<Figure size 432x288 with 1 Axes>"
            ],
            "image/png": "[encoded data removed]"
          },
          "metadata": {
            "needs_background": "light"
          }
        }
      ]
    },
    {
      "cell_type": "markdown",
      "source": [
        "###**K_Means Using Our Algorithm**"
      ],
      "metadata": {
        "id": "atR5aDpcb-F9"
      }
    },
    {
      "cell_type": "code",
      "source": [
        "# Now Using Our K_Means Model\n",
        "mymodel=K_Means(n_clusters=3)\n",
        "#fit the df in our model\n",
        "mymodel.fit(df)\n",
        "# predicted labels by model\n",
        "my_predicted_labels=mymodel.labels_"
      ],
      "metadata": {
        "id": "3zdG1Tu-XGDt"
      },
      "execution_count": 19,
      "outputs": []
    },
    {
      "cell_type": "code",
      "source": [
        "#Printing my K_Means Model specifications\n",
        "print(\"My K_Means model Specifications :-\")\n",
        "print(\"Model Inertia = \",mymodel.inertia_)\n",
        "print(\"Input Features = \",mymodel.n_features_in_)\n",
        "print(\"Iteration Runned = \",mymodel.n_iter_)\n",
        "print(\"\")"
      ],
      "metadata": {
        "colab": {
          "base_uri": "https://localhost:8080/"
        },
        "id": "nGzodjDlXrMN",
        "outputId": "eebdb0b1-ff36-401e-97bb-40e20e6c65ea"
      },
      "execution_count": 20,
      "outputs": [
        {
          "output_type": "stream",
          "name": "stdout",
          "text": [
            "My K_Means model Specifications :-\n",
            "Model Inertia =  1.7018746881920963\n",
            "Input Features =  2\n",
            "Iteration Runned =  2\n",
            "\n"
          ]
        }
      ]
    },
    {
      "cell_type": "code",
      "source": [
        "# predicted clusters using my K_Means model\n",
        "my_predicted_clusters=Clusters(df,my_predicted_labels)\n",
        "# plotting predicted cluters using my KMeans model\n",
        "'''\n",
        "Colors of clusters are diffrent because K_Means is Unsupervised learning so,\n",
        "it autimatically put cluster names as 0,1,2...\n",
        "'''\n",
        "plotClusters(my_predicted_clusters)"
      ],
      "metadata": {
        "colab": {
          "base_uri": "https://localhost:8080/",
          "height": 279
        },
        "id": "-1hNk129ZZp-",
        "outputId": "fd8ae5ad-e4e9-4453-b922-7e10defdcdcf"
      },
      "execution_count": 21,
      "outputs": [
        {
          "output_type": "display_data",
          "data": {
            "text/plain": [
              "<Figure size 432x288 with 1 Axes>"
            ],
            "image/png": "[encoded data removed]"
          },
          "metadata": {
            "needs_background": "light"
          }
        }
      ]
    },
    {
      "cell_type": "markdown",
      "source": [
        "***Any Improvments or Suggestions are welcomed***"
      ],
      "metadata": {
        "id": "I7tcsdjRckBW"
      }
    },
    {
      "cell_type": "markdown",
      "source": [
        "###**Thank You** 🙂\n",
        "\n",
        "\n",
        "\n",
        "\n",
        "\n"
      ],
      "metadata": {
        "id": "8jPE7k37Jb2M"
      }
    },
    {
      "cell_type": "markdown",
      "source": [
        "Created by : Abhijit Kumar\n",
        "\n",
        "Date : 12-11-2022\n",
        "\n",
        "**©AbhijitKumar**"
      ],
      "metadata": {
        "id": "bI6qqHpTcMd_"
      }
    }
  ]
}