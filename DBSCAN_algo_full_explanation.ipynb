{
  "nbformat": 4,
  "nbformat_minor": 0,
  "metadata": {
    "colab": {
      "provenance": []
    },
    "kernelspec": {
      "name": "python3",
      "display_name": "Python 3"
    },
    "language_info": {
      "name": "python"
    }
  },
  "cells": [
    {
      "cell_type": "markdown",
      "source": [
        "#**DBSCAN Clustering Algorithm from Scratch.**\n",
        ">*Comparison with DBSCAN Using Sklearn*\n"
      ],
      "metadata": {
        "id": "tC6tibl7IuI0"
      }
    },
    {
      "cell_type": "markdown",
      "source": [
        "###**import statements**"
      ],
      "metadata": {
        "id": "AlwrFhhsI8ub"
      }
    },
    {
      "cell_type": "code",
      "source": [
        "import pandas as pd\n",
        "import numpy as np\n",
        "import matplotlib.pyplot as plt\n",
        "from sklearn import datasets\n",
        "from sklearn.cluster import DBSCAN\n",
        "from sklearn.datasets import load_iris\n",
        "from sklearn.preprocessing import MinMaxScaler"
      ],
      "metadata": {
        "id": "9R6bpmRGRwJB"
      },
      "execution_count": 1,
      "outputs": []
    },
    {
      "cell_type": "markdown",
      "source": [
        "###**Defining Helper functions**"
      ],
      "metadata": {
        "id": "qY-q6eY3JEea"
      }
    },
    {
      "cell_type": "markdown",
      "source": [
        "###**Distance class definition**\n",
        ">for calculating different type of distances between two n-dimensional points"
      ],
      "metadata": {
        "id": "6pqbSKoEBgU5"
      }
    },
    {
      "cell_type": "code",
      "source": [
        "class Distance:\n",
        "    def __init__(self,algo='euclidean',Power=2):\n",
        "        self.algo=algo\n",
        "        # Power -> power value used for MinKowski distance\n",
        "        self.P=Power\n",
        "\n",
        "    def calc(self,p1,p2):\n",
        "        '''\n",
        "        Input\n",
        "            p1,p2 -> numpy array of size d denoting  d-dimenstional points\n",
        "        Output\n",
        "            it returns the distance(in np.float64 dtype) based on the algo\n",
        "        '''\n",
        "        if self.algo=='minkowski':\n",
        "            return self.minkowskiDist(p1,p2,self.P)\n",
        "        elif self.algo=='euclidean':\n",
        "            return self.euclideanDist(p1,p2)\n",
        "        elif self.algo=='manhatten':\n",
        "            return self.manhattenDist(p1,p2)\n",
        "    \n",
        "    def algo(self):\n",
        "        '''\n",
        "         this function returns the names of algo's that we can use in this class\n",
        "        '''\n",
        "        return ['euclidean','minkowski','manhatten']\n",
        "\n",
        "    def minkowskiDist(self,p1,p2,P):\n",
        "        return np.power(np.sum(np.power(p2-p1,P)),1/P)\n",
        "    \n",
        "    def euclideanDist(self,p1,p2):\n",
        "        return np.sqrt(np.sum(np.square(p2-p1)))\n",
        "    \n",
        "    def manhattenDist(self,p1,p2):\n",
        "        return np.sum(np.absolute(p2-p1))"
      ],
      "metadata": {
        "id": "aJ5O_xSqBxPy"
      },
      "execution_count": 2,
      "outputs": []
    },
    {
      "cell_type": "code",
      "source": [
        "# defining helper function for our code.\n",
        "def scaleDf(df,colList=[]):\n",
        "    '''\n",
        "    scaleDf -> this function scale the value of features in df using MinMaxScaler\n",
        "    colList-> user can pass a list of features to scale otherwise all features are scaled\n",
        "    '''\n",
        "    scaler=MinMaxScaler()\n",
        "    #if colList is not given then take all columns\n",
        "    if(len(colList)==0):\n",
        "        colList=df.columns\n",
        "    df=pd.DataFrame(scaler.fit_transform(df[colList]),columns=colList)\n",
        "    return df\n",
        "\n",
        "\n",
        "def plotClusters(df,labels,cluster_centers=[]):\n",
        "    '''\n",
        "    Input : \n",
        "        df -> dataFrame\n",
        "        labels -> labels\n",
        "    Output:\n",
        "        plot the clusters\n",
        "    '''\n",
        "    labels=np.array(labels) #convert in numpy array (if not already)\n",
        "    # changing noise points label value to give noise points a diffrent color\n",
        "    noise_label=labels.max()+1\n",
        "    Labels=labels.copy()\n",
        "    Labels[Labels==-1]=noise_label\n",
        "    #plotting\n",
        "    # plotting cluster points\n",
        "    for label in np.unique(Labels):\n",
        "        # declaring name for clusters ('N'-> noise points)\n",
        "        cluster_name='C'+str(int(label)) if label!=noise_label else 'N'\n",
        "        # at color position we passed label+1 because to avoid white color(that is for 0)\n",
        "        plt.scatter(df[Labels==label].iloc[:,0],df[Labels==label].iloc[:,1],label+1,label=cluster_name)\n",
        "    # plotting cluster centers\n",
        "    # only plot cluster centers when cluster centers are 2D points\n",
        "    cluster_centers=np.array(cluster_centers) # convert in numpy (if not already)\n",
        "    if len(cluster_centers.shape)>=2 and cluster_centers.shape[1]==2:\n",
        "        for point in cluster_centers:\n",
        "            # label='CC' in plot represents cluster centers\n",
        "            plt.scatter(point[0],point[1],s=80,c=Labels.max()+2,marker='^',label='CC')\n",
        "    plt.legend(loc='upper left')\n",
        "    plt.xlabel(df.columns[0])\n",
        "    plt.ylabel(df.columns[1])\n",
        "    plt.plot()\n",
        "    plt.show()\n",
        "\n",
        "# extra helper function for calculation of inertia of sklearn DBSCAN clustering model\n",
        "\n",
        "def squared_distance_sum(points,centroid,dist_func='euclidean',power=2):\n",
        "        '''\n",
        "        Input:\n",
        "            points -> collection of points of a single cluster\n",
        "            centroid -> centroid of that cluster\n",
        "            dist_func-> algo used for calculating distance\n",
        "            power -> power used in minkowski algo\n",
        "        Output:\n",
        "            this function returns the sum of square of distance of \n",
        "            every point in points from given centroid\n",
        "        '''\n",
        "        distance=Distance(algo=dist_func,Power=power)\n",
        "        sum_squared_dist=0\n",
        "        for point in points:\n",
        "            sum_squared_dist+=np.square(distance.calc(point,centroid))\n",
        "        return sum_squared_dist\n",
        "\n",
        "def get_cluster_cnt(labels):\n",
        "    '''\n",
        "    Input:\n",
        "        labels -> list of clusters label for each point\n",
        "    Output:\n",
        "        it returns count of clusters created by DBSCAN\n",
        "    '''\n",
        "    labels=np.array(labels) #convert lables into numpy array in the case it is mot already\n",
        "    cluster_cnt=np.unique(labels).shape[0]\n",
        "    #if labels contains -1 means it have noise (and we dont count noise as a cluster)\n",
        "    if -1 in labels:\n",
        "        cluster_cnt-=1\n",
        "    return cluster_cnt\n",
        "\n",
        "def get_cluster_centers(df,labels):\n",
        "    '''\n",
        "    Input:\n",
        "        df-> data frame\n",
        "        labels -> list of clusters label for each point\n",
        "    Output:\n",
        "        it returns array containing cluster center for each cluster\n",
        "    '''\n",
        "    df_numpy=df.to_numpy()\n",
        "    labels=np.array(labels) #convert lables into numpy array in the case it is mot already\n",
        "    cluster_cnt=get_cluster_cnt(labels)  \n",
        "    #creating variable for storing cluster_centers\n",
        "    cluster_centers=np.ones(((df_numpy.shape[1])*cluster_cnt)).reshape(cluster_cnt,df_numpy.shape[1])\n",
        "    # now we iterate over clusters and find centers\n",
        "    for c_num in range(cluster_cnt):\n",
        "        c_num_points=df_numpy[labels==c_num]\n",
        "        cluster_centers[c_num]=((c_num_points.sum(axis=0))/(c_num_points.shape[0]))\n",
        "    return cluster_centers\n",
        "\n",
        "def getInertia(df,labels,dist_func='euclidean',power=2):\n",
        "    '''\n",
        "    Input \n",
        "        df -> data frame\n",
        "        labels -> list of clusters label for each point\n",
        "        dist_func-> algo used for calculating distance\n",
        "        power -> power used in minkowski algo\n",
        "    Output\n",
        "        returns sum of squared distace from every point to there assigned cluster center\n",
        "    '''\n",
        "    df_numpy=df.to_numpy()\n",
        "    labels=np.array(labels) #convert lables into numpy array in the case it is mot already\n",
        "    total_squared_dist=0\n",
        "    cluster_cnt=get_cluster_cnt(labels)\n",
        "    # if cluster center is already calculated then use it otherwise calculate it\n",
        "    cluster_centers=get_cluster_centers(df,labels)\n",
        "    for cluster_num in range(cluster_cnt):\n",
        "        cluster_points=df_numpy[labels==cluster_num]\n",
        "        center=cluster_centers[cluster_num]\n",
        "        total_squared_dist+=squared_distance_sum(cluster_points,center)\n",
        "    return total_squared_dist\n"
      ],
      "metadata": {
        "id": "UFHHiTjXZ6oa"
      },
      "execution_count": 3,
      "outputs": []
    },
    {
      "cell_type": "markdown",
      "source": [
        "###**DB_SCAN Class Implementation**"
      ],
      "metadata": {
        "id": "qqXC4heWkkaJ"
      }
    },
    {
      "cell_type": "code",
      "source": [
        "# (Distance class must be there and executed for working of this K_Means Class)\n",
        "# My DB_SCAN class starts here\n",
        "class DB_SCAN:\n",
        "    def __init__(self,eps=0.5, *, min_samples=5, Distance_algo='euclidean', p=2):\n",
        "        self.eps=eps # radius of circle for a core point\n",
        "        self.min_samples=min_samples # min number of neighbours to be called a core point\n",
        "        self.Distance_algo=Distance_algo\n",
        "        self.P=p #Power used for Minkowski distance\n",
        "        #additional data attribute\n",
        "        self.n_features_in_=0 # number of features seen during fitting\n",
        "        self.labels_=np.array([]) # stores the labels of every point in data\n",
        "        self.cluster_cnt_=0 # it stores the number of clusters formed after fitting the data\n",
        "        self.cluster_centers_=np.array([]) # it stores cluster center of each clusters(size=cluster_cnt)\n",
        "    \n",
        "    def get_params(self):\n",
        "        '''\n",
        "        Returns DB_SCAN Model parameters with their values\n",
        "        '''\n",
        "        params=dict()\n",
        "        params['eps']=self.eps\n",
        "        params['min_samples']=self.min_samples\n",
        "        params['Distance_algo']=self.Distance_algo\n",
        "        params['p']=self.p\n",
        "        return params\n",
        "\n",
        "    def fit(self,df):\n",
        "        '''\n",
        "        Input\n",
        "            df -> a data frame containing n data points with d features each\n",
        "        Output\n",
        "            the predicted cluster number corresponding to each point\n",
        "        '''\n",
        "        # creating points\n",
        "        df_numpy=df.to_numpy(copy=True) #convert df to np array\n",
        "\n",
        "        inertia=np.inf #store the minimum inertia across runs\n",
        "        \n",
        "        # defining variables\n",
        "        eps=self.eps\n",
        "        minpts=self.min_samples # min number of neighbours to be called a core point\n",
        "        dist_func=self.Distance_algo\n",
        "        rows=df_numpy.shape[0]\n",
        "        cols=df_numpy.shape[1]\n",
        "\n",
        "        c=-1 # cluster not started yet\n",
        "        '''\n",
        "        labels[i] -> label of ith point in df_numpy\n",
        "        value:\n",
        "            -5 -> undefined (point not visited yet!)\n",
        "            -1 -> Noise point\n",
        "            >=0 -> cluster label(Cluster number in which it belongs)\n",
        "        '''\n",
        "        labels=np.ones(rows)*-5 #initially no points is unvisited\n",
        "\n",
        "        # iterate over points\n",
        "        for i in range(rows):\n",
        "            p=df_numpy[i]\n",
        "            # if point p is already visited then continue\n",
        "            if labels[i]!=-5:\n",
        "                continue\n",
        "            # if point p is not visited yet then visit it and find its neighbours\n",
        "            #n_idxs -> its stores the index of neighbours of point p\n",
        "            n_idxs=self.get_neighbours(df_numpy[i],df_numpy)\n",
        "            # type(n_idxs)=list\n",
        "            # n_cnt-> neighbours cnt of point p\n",
        "            n_cnt=len(n_idxs)\n",
        "\n",
        "            # if n_cnt is less than minpts then it become a noise point (at this moment), and then continue\n",
        "            if n_cnt<minpts:\n",
        "                labels[i]=-1 # -1 is label for noise\n",
        "                continue\n",
        "            # if n_cnt>=minpts means p is a core point and we can start a new cluster from p\n",
        "            # initializing a new cluster\n",
        "            c=c+1\n",
        "            #assign the new cluster label to point p\n",
        "            labels[i]=c\n",
        "\n",
        "            #creating a set of n_idxs for faster searching\n",
        "            n_idxs_set=set(n_idxs)\n",
        "\n",
        "            # iterate over neightbours of point p\n",
        "            for idx in n_idxs:\n",
        "                q=df_numpy[idx]\n",
        "                # here q is neighbour of p\n",
        "                # if q is a noise point then we assign it to our currennt cluster c and continue\n",
        "                if labels[idx]==-1:\n",
        "                    labels[idx]=c\n",
        "                    continue\n",
        "                # if already visited then continue\n",
        "                if labels[idx]!=-5:\n",
        "                    continue\n",
        "                \n",
        "                # Assign level already \n",
        "                labels[idx]=c\n",
        "                # find neighbours of q\n",
        "                # nidx-> it stores indexes of neighbours of q\n",
        "                nIdx=self.get_neighbours(q,df_numpy)\n",
        "                nCnt=len(nIdx)\n",
        "                # if q is a core point then add neighbours of q into neighbours of p (by union method)\n",
        "                if nCnt>=minpts:\n",
        "                    # q is a core point\n",
        "                    # taking union of n_idxs and nIdx (can't do direct union because indexing of above for loop mismatched after sorting)\n",
        "                    #taking union in a diffrent way\n",
        "                    for idx in nIdx:\n",
        "                        if idx in n_idxs_set:\n",
        "                            continue\n",
        "                        #append idx in n_idxs and add idx in n_idxs_set\n",
        "                        n_idxs_set.add(idx)\n",
        "                        n_idxs.append(idx)\n",
        "\n",
        "                # if q is not a core point then do nothing\n",
        "        # store the final values in corresponding attributes\n",
        "        self.n_features_in_=labels.shape[0]\n",
        "        self.labels_=labels\n",
        "        self.cluster_cnt_=self.get_cluster_cnt(labels)\n",
        "        self.cluster_centers_=self.get_cluster_centers(df_numpy,labels)\n",
        "        self.inertia_=self.getInertia(df_numpy,labels)\n",
        "        return self.labels_\n",
        "\n",
        "    def get_neighbours(self,p,df_numpy):\n",
        "        '''\n",
        "        Input\n",
        "            p-> point (d dimensional point)\n",
        "            eps -> epsillon distance\n",
        "            df_numpy -> dataframe in numpy format\n",
        "            dist_func-> denotes distance function\n",
        "        Output\n",
        "            (return type is list)\n",
        "            index arr of neighbours which lies on/inside the d-dimensional circle with radius=eps , center=p\n",
        "        '''\n",
        "        # defining variables\n",
        "        eps=self.eps\n",
        "        dist_func=self.Distance_algo\n",
        "\n",
        "        # initialize the distance class with given algo\n",
        "        distance=Distance(algo=self.Distance_algo,Power=self.P)\n",
        "        # iterate over every point in df_numpy\n",
        "        neighbours_idxs=[] # this stores indexes of neighbours \n",
        "        for i,q in enumerate(df_numpy):\n",
        "            # dist stores distance between point p and q\n",
        "            dist=distance.calc(p,q)\n",
        "            if dist<=eps:\n",
        "                neighbours_idxs.append(i)\n",
        "        return neighbours_idxs\n",
        "\n",
        "    def squared_distance_sum(self,points,centroid):\n",
        "        '''\n",
        "        this function returns the sum of square of distance of \n",
        "        every point in points from given centroid\n",
        "        '''\n",
        "        distance=Distance(algo=self.Distance_algo,Power=self.P)\n",
        "        sum_squared_dist=0\n",
        "        for point in points:\n",
        "            sum_squared_dist+=np.square(distance.calc(point,centroid))\n",
        "        return sum_squared_dist\n",
        "\n",
        "    \n",
        "    def getInertia(self,df_numpy,labels):\n",
        "        '''\n",
        "        Input \n",
        "          df_numpy -> data points\n",
        "          labels -> list of clusters label for each point\n",
        "        Output\n",
        "          returns sum of squared distace from every point to there assigned cluster center\n",
        "        '''\n",
        "        total_squared_dist=0\n",
        "        cluster_cnt=self.get_cluster_cnt(labels)\n",
        "        # if cluster center is already calculated then use it otherwise calculate it\n",
        "        cluster_centers=self.cluster_centers_\n",
        "        if len(self.cluster_centers_)!=cluster_cnt:\n",
        "            cluster_centers=self.get_cluster_centers(df_numpy,labels)\n",
        "        \n",
        "        for cluster_num in range(cluster_cnt):\n",
        "            cluster_points=df_numpy[labels==cluster_num]\n",
        "            center=cluster_centers[cluster_num]\n",
        "            total_squared_dist+=self.squared_distance_sum(cluster_points,center)\n",
        "        return total_squared_dist\n",
        "\n",
        "    def predict(self,test_df):\n",
        "        '''\n",
        "        (prerequisite -> fit already executed (model already built))\n",
        "        Input :\n",
        "            df_test -> test data points\n",
        "        Ouput:\n",
        "            returns Cluster number corresponding to each test data point\n",
        "        '''\n",
        "        # Print error if models is prerequisite not satisfied\n",
        "        if(self.n_iter_==0):\n",
        "            print(\"\\tPlease Contruct and Fit the Model First (Run the Fit method)\\n\")\n",
        "            return np.array([])\n",
        "        test_pts=test_df.to_numpy(copy=True) #convert test_df to np array\n",
        "        labels=[-1 for i in range(len(test_pts))]\n",
        "        for i,point in enumerate(test_pts):\n",
        "            labels[i]=self.get_nearest_centroid(point,self.cluster_centers_)\n",
        "        return labels\n",
        "    \n",
        "    def specs_(self):\n",
        "        '''\n",
        "        return Model Specifications (after fitting on dataset)\n",
        "        '''\n",
        "        specs=dict()\n",
        "        specs['inertia_']=self.inertia_\n",
        "        specs['cluster_cnt_']=self.cluster_cnt_\n",
        "        specs['cluster_centers_']=self.cluster_centers_\n",
        "        specs['n_features_in_']=self.n_features_in_\n",
        "        return specs\n",
        "\n",
        "\n",
        "    # Helper Functions\n",
        "    def get_cluster_cnt(self,labels):\n",
        "        '''\n",
        "        Input:\n",
        "            labels -> list of clusters label for each point\n",
        "        Output:\n",
        "            it returns count of clusters created by dbscan\n",
        "        '''\n",
        "        cluster_cnt=np.unique(labels).shape[0]\n",
        "        #if labels contains -1 means it have noise (and we dont count noise as a cluster)\n",
        "        if -1 in labels:\n",
        "            cluster_cnt-=1\n",
        "        return cluster_cnt\n",
        "\n",
        "    def get_cluster_centers(self,df_numpy,labels):\n",
        "        '''\n",
        "        Input:\n",
        "            df_numpy -> data points\n",
        "            labels -> list of clusters label for each point\n",
        "        Output:\n",
        "            it returns array containing cluster center for each cluster\n",
        "        '''\n",
        "        cluster_cnt=self.get_cluster_cnt(labels)  \n",
        "        #creating variable for storing cluster_centers\n",
        "        cluster_centers=np.ones(((df_numpy.shape[1])*cluster_cnt)).reshape(cluster_cnt,df_numpy.shape[1])\n",
        "        # now we iterate over clusters and find centers\n",
        "        for c_num in range(cluster_cnt):\n",
        "            c_num_points=df_numpy[labels==c_num]\n",
        "            cluster_centers[c_num]=((c_num_points.sum(axis=0))/(c_num_points.shape[0]))\n",
        "        return cluster_centers\n",
        "\n",
        "# My K_Means class ends here"
      ],
      "metadata": {
        "id": "aaeJThq0kjeB"
      },
      "execution_count": 4,
      "outputs": []
    },
    {
      "cell_type": "markdown",
      "source": [
        "###**Loading Data and Refining**"
      ],
      "metadata": {
        "id": "RjGQxgUAbhf3"
      }
    },
    {
      "cell_type": "code",
      "source": [
        "# Loading iris dataset from pandas\n",
        "irisdata=load_iris()"
      ],
      "metadata": {
        "id": "9cG0-nZnTyzs"
      },
      "execution_count": 5,
      "outputs": []
    },
    {
      "cell_type": "code",
      "source": [
        "irisdata.target_names"
      ],
      "metadata": {
        "colab": {
          "base_uri": "https://localhost:8080/"
        },
        "id": "2Nu14hAtfR2U",
        "outputId": "4c686392-79d7-4151-90e9-a9ecd3c6d317"
      },
      "execution_count": 6,
      "outputs": [
        {
          "output_type": "execute_result",
          "data": {
            "text/plain": [
              "array(['setosa', 'versicolor', 'virginica'], dtype='<U10')"
            ]
          },
          "metadata": {},
          "execution_count": 6
        }
      ]
    },
    {
      "cell_type": "code",
      "source": [
        "# storing iris dataset in pd DataFrame format in maindf\n",
        "maindf=pd.DataFrame(data=irisdata.data,columns=irisdata.feature_names)"
      ],
      "metadata": {
        "id": "EsIWj1JyUV4m"
      },
      "execution_count": 7,
      "outputs": []
    },
    {
      "cell_type": "code",
      "source": [
        "# Adding target column (label) in our maindf\n",
        "maindf[\"target\"]=irisdata.target"
      ],
      "metadata": {
        "id": "ztfZ7TJ_UW1m"
      },
      "execution_count": 8,
      "outputs": []
    },
    {
      "cell_type": "code",
      "source": [
        "# view of maindf\n",
        "maindf.head()"
      ],
      "metadata": {
        "colab": {
          "base_uri": "https://localhost:8080/",
          "height": 206
        },
        "id": "WOf216KBhf6O",
        "outputId": "54fb5fa5-1497-4364-d9ea-16019943e30e"
      },
      "execution_count": 9,
      "outputs": [
        {
          "output_type": "execute_result",
          "data": {
            "text/plain": [
              "   sepal length (cm)  sepal width (cm)  petal length (cm)  petal width (cm)  \\\n",
              "0                5.1               3.5                1.4               0.2   \n",
              "1                4.9               3.0                1.4               0.2   \n",
              "2                4.7               3.2                1.3               0.2   \n",
              "3                4.6               3.1                1.5               0.2   \n",
              "4                5.0               3.6                1.4               0.2   \n",
              "\n",
              "   target  \n",
              "0       0  \n",
              "1       0  \n",
              "2       0  \n",
              "3       0  \n",
              "4       0  "
            ],
            "text/html": [
              "\n",
              "  <div id=\"df-ce83b854-3f31-457e-9f70-3cd4809f81a5\">\n",
              "    <div class=\"colab-df-container\">\n",
              "      <div>\n",
              "<style scoped>\n",
              "    .dataframe tbody tr th:only-of-type {\n",
              "        vertical-align: middle;\n",
              "    }\n",
              "\n",
              "    .dataframe tbody tr th {\n",
              "        vertical-align: top;\n",
              "    }\n",
              "\n",
              "    .dataframe thead th {\n",
              "        text-align: right;\n",
              "    }\n",
              "</style>\n",
              "<table border=\"1\" class=\"dataframe\">\n",
              "  <thead>\n",
              "    <tr style=\"text-align: right;\">\n",
              "      <th></th>\n",
              "      <th>sepal length (cm)</th>\n",
              "      <th>sepal width (cm)</th>\n",
              "      <th>petal length (cm)</th>\n",
              "      <th>petal width (cm)</th>\n",
              "      <th>target</th>\n",
              "    </tr>\n",
              "  </thead>\n",
              "  <tbody>\n",
              "    <tr>\n",
              "      <th>0</th>\n",
              "      <td>5.1</td>\n",
              "      <td>3.5</td>\n",
              "      <td>1.4</td>\n",
              "      <td>0.2</td>\n",
              "      <td>0</td>\n",
              "    </tr>\n",
              "    <tr>\n",
              "      <th>1</th>\n",
              "      <td>4.9</td>\n",
              "      <td>3.0</td>\n",
              "      <td>1.4</td>\n",
              "      <td>0.2</td>\n",
              "      <td>0</td>\n",
              "    </tr>\n",
              "    <tr>\n",
              "      <th>2</th>\n",
              "      <td>4.7</td>\n",
              "      <td>3.2</td>\n",
              "      <td>1.3</td>\n",
              "      <td>0.2</td>\n",
              "      <td>0</td>\n",
              "    </tr>\n",
              "    <tr>\n",
              "      <th>3</th>\n",
              "      <td>4.6</td>\n",
              "      <td>3.1</td>\n",
              "      <td>1.5</td>\n",
              "      <td>0.2</td>\n",
              "      <td>0</td>\n",
              "    </tr>\n",
              "    <tr>\n",
              "      <th>4</th>\n",
              "      <td>5.0</td>\n",
              "      <td>3.6</td>\n",
              "      <td>1.4</td>\n",
              "      <td>0.2</td>\n",
              "      <td>0</td>\n",
              "    </tr>\n",
              "  </tbody>\n",
              "</table>\n",
              "</div>\n",
              "      <button class=\"colab-df-convert\" onclick=\"convertToInteractive('df-ce83b854-3f31-457e-9f70-3cd4809f81a5')\"\n",
              "              title=\"Convert this dataframe to an interactive table.\"\n",
              "              style=\"display:none;\">\n",
              "        \n",
              "  <svg xmlns=\"http://www.w3.org/2000/svg\" height=\"24px\"viewBox=\"0 0 24 24\"\n",
              "       width=\"24px\">\n",
              "    <path d=\"M0 0h24v24H0V0z\" fill=\"none\"/>\n",
              "    <path d=\"M18.56 5.44l.94 2.06.94-2.06 2.06-.94-2.06-.94-.94-2.06-.94 2.06-2.06.94zm-11 1L8.5 8.5l.94-2.06 2.06-.94-2.06-.94L8.5 2.5l-.94 2.06-2.06.94zm10 10l.94 2.06.94-2.06 2.06-.94-2.06-.94-.94-2.06-.94 2.06-2.06.94z\"/><path d=\"M17.41 7.96l-1.37-1.37c-.4-.4-.92-.59-1.43-.59-.52 0-1.04.2-1.43.59L10.3 9.45l-7.72 7.72c-.78.78-.78 2.05 0 2.83L4 21.41c.39.39.9.59 1.41.59.51 0 1.02-.2 1.41-.59l7.78-7.78 2.81-2.81c.8-.78.8-2.07 0-2.86zM5.41 20L4 18.59l7.72-7.72 1.47 1.35L5.41 20z\"/>\n",
              "  </svg>\n",
              "      </button>\n",
              "      \n",
              "  <style>\n",
              "    .colab-df-container {\n",
              "      display:flex;\n",
              "      flex-wrap:wrap;\n",
              "      gap: 12px;\n",
              "    }\n",
              "\n",
              "    .colab-df-convert {\n",
              "      background-color: #E8F0FE;\n",
              "      border: none;\n",
              "      border-radius: 50%;\n",
              "      cursor: pointer;\n",
              "      display: none;\n",
              "      fill: #1967D2;\n",
              "      height: 32px;\n",
              "      padding: 0 0 0 0;\n",
              "      width: 32px;\n",
              "    }\n",
              "\n",
              "    .colab-df-convert:hover {\n",
              "      background-color: #E2EBFA;\n",
              "      box-shadow: 0px 1px 2px rgba(60, 64, 67, 0.3), 0px 1px 3px 1px rgba(60, 64, 67, 0.15);\n",
              "      fill: #174EA6;\n",
              "    }\n",
              "\n",
              "    [theme=dark] .colab-df-convert {\n",
              "      background-color: #3B4455;\n",
              "      fill: #D2E3FC;\n",
              "    }\n",
              "\n",
              "    [theme=dark] .colab-df-convert:hover {\n",
              "      background-color: #434B5C;\n",
              "      box-shadow: 0px 1px 3px 1px rgba(0, 0, 0, 0.15);\n",
              "      filter: drop-shadow(0px 1px 2px rgba(0, 0, 0, 0.3));\n",
              "      fill: #FFFFFF;\n",
              "    }\n",
              "  </style>\n",
              "\n",
              "      <script>\n",
              "        const buttonEl =\n",
              "          document.querySelector('#df-ce83b854-3f31-457e-9f70-3cd4809f81a5 button.colab-df-convert');\n",
              "        buttonEl.style.display =\n",
              "          google.colab.kernel.accessAllowed ? 'block' : 'none';\n",
              "\n",
              "        async function convertToInteractive(key) {\n",
              "          const element = document.querySelector('#df-ce83b854-3f31-457e-9f70-3cd4809f81a5');\n",
              "          const dataTable =\n",
              "            await google.colab.kernel.invokeFunction('convertToInteractive',\n",
              "                                                     [key], {});\n",
              "          if (!dataTable) return;\n",
              "\n",
              "          const docLinkHtml = 'Like what you see? Visit the ' +\n",
              "            '<a target=\"_blank\" href=https://colab.research.google.com/notebooks/data_table.ipynb>data table notebook</a>'\n",
              "            + ' to learn more about interactive tables.';\n",
              "          element.innerHTML = '';\n",
              "          dataTable['output_type'] = 'display_data';\n",
              "          await google.colab.output.renderOutput(dataTable, element);\n",
              "          const docLink = document.createElement('div');\n",
              "          docLink.innerHTML = docLinkHtml;\n",
              "          element.appendChild(docLink);\n",
              "        }\n",
              "      </script>\n",
              "    </div>\n",
              "  </div>\n",
              "  "
            ]
          },
          "metadata": {},
          "execution_count": 9
        }
      ]
    },
    {
      "cell_type": "code",
      "source": [
        "# Finding the 2 most relevant features with which our label is closely correlated\n",
        "maindf.corr()\n",
        "# we can see using correlation matrix that 2 features are petal length (cm) & petal width (cm)"
      ],
      "metadata": {
        "colab": {
          "base_uri": "https://localhost:8080/",
          "height": 206
        },
        "id": "HWyUFKV4VwPu",
        "outputId": "e8a1e3b6-9236-4e06-eca0-de54fc4cf2f5"
      },
      "execution_count": 10,
      "outputs": [
        {
          "output_type": "execute_result",
          "data": {
            "text/plain": [
              "                   sepal length (cm)  sepal width (cm)  petal length (cm)  \\\n",
              "sepal length (cm)           1.000000         -0.117570           0.871754   \n",
              "sepal width (cm)           -0.117570          1.000000          -0.428440   \n",
              "petal length (cm)           0.871754         -0.428440           1.000000   \n",
              "petal width (cm)            0.817941         -0.366126           0.962865   \n",
              "target                      0.782561         -0.426658           0.949035   \n",
              "\n",
              "                   petal width (cm)    target  \n",
              "sepal length (cm)          0.817941  0.782561  \n",
              "sepal width (cm)          -0.366126 -0.426658  \n",
              "petal length (cm)          0.962865  0.949035  \n",
              "petal width (cm)           1.000000  0.956547  \n",
              "target                     0.956547  1.000000  "
            ],
            "text/html": [
              "\n",
              "  <div id=\"df-44def820-6164-4251-8b02-45230b192753\">\n",
              "    <div class=\"colab-df-container\">\n",
              "      <div>\n",
              "<style scoped>\n",
              "    .dataframe tbody tr th:only-of-type {\n",
              "        vertical-align: middle;\n",
              "    }\n",
              "\n",
              "    .dataframe tbody tr th {\n",
              "        vertical-align: top;\n",
              "    }\n",
              "\n",
              "    .dataframe thead th {\n",
              "        text-align: right;\n",
              "    }\n",
              "</style>\n",
              "<table border=\"1\" class=\"dataframe\">\n",
              "  <thead>\n",
              "    <tr style=\"text-align: right;\">\n",
              "      <th></th>\n",
              "      <th>sepal length (cm)</th>\n",
              "      <th>sepal width (cm)</th>\n",
              "      <th>petal length (cm)</th>\n",
              "      <th>petal width (cm)</th>\n",
              "      <th>target</th>\n",
              "    </tr>\n",
              "  </thead>\n",
              "  <tbody>\n",
              "    <tr>\n",
              "      <th>sepal length (cm)</th>\n",
              "      <td>1.000000</td>\n",
              "      <td>-0.117570</td>\n",
              "      <td>0.871754</td>\n",
              "      <td>0.817941</td>\n",
              "      <td>0.782561</td>\n",
              "    </tr>\n",
              "    <tr>\n",
              "      <th>sepal width (cm)</th>\n",
              "      <td>-0.117570</td>\n",
              "      <td>1.000000</td>\n",
              "      <td>-0.428440</td>\n",
              "      <td>-0.366126</td>\n",
              "      <td>-0.426658</td>\n",
              "    </tr>\n",
              "    <tr>\n",
              "      <th>petal length (cm)</th>\n",
              "      <td>0.871754</td>\n",
              "      <td>-0.428440</td>\n",
              "      <td>1.000000</td>\n",
              "      <td>0.962865</td>\n",
              "      <td>0.949035</td>\n",
              "    </tr>\n",
              "    <tr>\n",
              "      <th>petal width (cm)</th>\n",
              "      <td>0.817941</td>\n",
              "      <td>-0.366126</td>\n",
              "      <td>0.962865</td>\n",
              "      <td>1.000000</td>\n",
              "      <td>0.956547</td>\n",
              "    </tr>\n",
              "    <tr>\n",
              "      <th>target</th>\n",
              "      <td>0.782561</td>\n",
              "      <td>-0.426658</td>\n",
              "      <td>0.949035</td>\n",
              "      <td>0.956547</td>\n",
              "      <td>1.000000</td>\n",
              "    </tr>\n",
              "  </tbody>\n",
              "</table>\n",
              "</div>\n",
              "      <button class=\"colab-df-convert\" onclick=\"convertToInteractive('df-44def820-6164-4251-8b02-45230b192753')\"\n",
              "              title=\"Convert this dataframe to an interactive table.\"\n",
              "              style=\"display:none;\">\n",
              "        \n",
              "  <svg xmlns=\"http://www.w3.org/2000/svg\" height=\"24px\"viewBox=\"0 0 24 24\"\n",
              "       width=\"24px\">\n",
              "    <path d=\"M0 0h24v24H0V0z\" fill=\"none\"/>\n",
              "    <path d=\"M18.56 5.44l.94 2.06.94-2.06 2.06-.94-2.06-.94-.94-2.06-.94 2.06-2.06.94zm-11 1L8.5 8.5l.94-2.06 2.06-.94-2.06-.94L8.5 2.5l-.94 2.06-2.06.94zm10 10l.94 2.06.94-2.06 2.06-.94-2.06-.94-.94-2.06-.94 2.06-2.06.94z\"/><path d=\"M17.41 7.96l-1.37-1.37c-.4-.4-.92-.59-1.43-.59-.52 0-1.04.2-1.43.59L10.3 9.45l-7.72 7.72c-.78.78-.78 2.05 0 2.83L4 21.41c.39.39.9.59 1.41.59.51 0 1.02-.2 1.41-.59l7.78-7.78 2.81-2.81c.8-.78.8-2.07 0-2.86zM5.41 20L4 18.59l7.72-7.72 1.47 1.35L5.41 20z\"/>\n",
              "  </svg>\n",
              "      </button>\n",
              "      \n",
              "  <style>\n",
              "    .colab-df-container {\n",
              "      display:flex;\n",
              "      flex-wrap:wrap;\n",
              "      gap: 12px;\n",
              "    }\n",
              "\n",
              "    .colab-df-convert {\n",
              "      background-color: #E8F0FE;\n",
              "      border: none;\n",
              "      border-radius: 50%;\n",
              "      cursor: pointer;\n",
              "      display: none;\n",
              "      fill: #1967D2;\n",
              "      height: 32px;\n",
              "      padding: 0 0 0 0;\n",
              "      width: 32px;\n",
              "    }\n",
              "\n",
              "    .colab-df-convert:hover {\n",
              "      background-color: #E2EBFA;\n",
              "      box-shadow: 0px 1px 2px rgba(60, 64, 67, 0.3), 0px 1px 3px 1px rgba(60, 64, 67, 0.15);\n",
              "      fill: #174EA6;\n",
              "    }\n",
              "\n",
              "    [theme=dark] .colab-df-convert {\n",
              "      background-color: #3B4455;\n",
              "      fill: #D2E3FC;\n",
              "    }\n",
              "\n",
              "    [theme=dark] .colab-df-convert:hover {\n",
              "      background-color: #434B5C;\n",
              "      box-shadow: 0px 1px 3px 1px rgba(0, 0, 0, 0.15);\n",
              "      filter: drop-shadow(0px 1px 2px rgba(0, 0, 0, 0.3));\n",
              "      fill: #FFFFFF;\n",
              "    }\n",
              "  </style>\n",
              "\n",
              "      <script>\n",
              "        const buttonEl =\n",
              "          document.querySelector('#df-44def820-6164-4251-8b02-45230b192753 button.colab-df-convert');\n",
              "        buttonEl.style.display =\n",
              "          google.colab.kernel.accessAllowed ? 'block' : 'none';\n",
              "\n",
              "        async function convertToInteractive(key) {\n",
              "          const element = document.querySelector('#df-44def820-6164-4251-8b02-45230b192753');\n",
              "          const dataTable =\n",
              "            await google.colab.kernel.invokeFunction('convertToInteractive',\n",
              "                                                     [key], {});\n",
              "          if (!dataTable) return;\n",
              "\n",
              "          const docLinkHtml = 'Like what you see? Visit the ' +\n",
              "            '<a target=\"_blank\" href=https://colab.research.google.com/notebooks/data_table.ipynb>data table notebook</a>'\n",
              "            + ' to learn more about interactive tables.';\n",
              "          element.innerHTML = '';\n",
              "          dataTable['output_type'] = 'display_data';\n",
              "          await google.colab.output.renderOutput(dataTable, element);\n",
              "          const docLink = document.createElement('div');\n",
              "          docLink.innerHTML = docLinkHtml;\n",
              "          element.appendChild(docLink);\n",
              "        }\n",
              "      </script>\n",
              "    </div>\n",
              "  </div>\n",
              "  "
            ]
          },
          "metadata": {},
          "execution_count": 10
        }
      ]
    },
    {
      "cell_type": "code",
      "source": [
        "# storing the original (Given) labels seperately\n",
        "# beacuse we are doing unsupervised learning so we do not require labels.\n",
        "labels=maindf['target']\n",
        "\n",
        "# Creating new dataframe 'df' with only our 2 most important features\n",
        "df=maindf.iloc[:,2:4]\n",
        "\n",
        "# changing column names of df for simplicity purpose\n",
        "col_names=['pl','pw'] #pl->petal length , pw-> petal width\n",
        "df.columns=col_names"
      ],
      "metadata": {
        "id": "xF7JHg4jXDIl"
      },
      "execution_count": 11,
      "outputs": []
    },
    {
      "cell_type": "code",
      "source": [
        "# View of df\n",
        "df.head()"
      ],
      "metadata": {
        "colab": {
          "base_uri": "https://localhost:8080/",
          "height": 206
        },
        "id": "sikutmRiUqqM",
        "outputId": "4ff40832-5ece-4ee2-af26-6aa971aacbeb"
      },
      "execution_count": 12,
      "outputs": [
        {
          "output_type": "execute_result",
          "data": {
            "text/plain": [
              "    pl   pw\n",
              "0  1.4  0.2\n",
              "1  1.4  0.2\n",
              "2  1.3  0.2\n",
              "3  1.5  0.2\n",
              "4  1.4  0.2"
            ],
            "text/html": [
              "\n",
              "  <div id=\"df-f65b3d6b-829e-40ea-bcdd-6f7f987251b9\">\n",
              "    <div class=\"colab-df-container\">\n",
              "      <div>\n",
              "<style scoped>\n",
              "    .dataframe tbody tr th:only-of-type {\n",
              "        vertical-align: middle;\n",
              "    }\n",
              "\n",
              "    .dataframe tbody tr th {\n",
              "        vertical-align: top;\n",
              "    }\n",
              "\n",
              "    .dataframe thead th {\n",
              "        text-align: right;\n",
              "    }\n",
              "</style>\n",
              "<table border=\"1\" class=\"dataframe\">\n",
              "  <thead>\n",
              "    <tr style=\"text-align: right;\">\n",
              "      <th></th>\n",
              "      <th>pl</th>\n",
              "      <th>pw</th>\n",
              "    </tr>\n",
              "  </thead>\n",
              "  <tbody>\n",
              "    <tr>\n",
              "      <th>0</th>\n",
              "      <td>1.4</td>\n",
              "      <td>0.2</td>\n",
              "    </tr>\n",
              "    <tr>\n",
              "      <th>1</th>\n",
              "      <td>1.4</td>\n",
              "      <td>0.2</td>\n",
              "    </tr>\n",
              "    <tr>\n",
              "      <th>2</th>\n",
              "      <td>1.3</td>\n",
              "      <td>0.2</td>\n",
              "    </tr>\n",
              "    <tr>\n",
              "      <th>3</th>\n",
              "      <td>1.5</td>\n",
              "      <td>0.2</td>\n",
              "    </tr>\n",
              "    <tr>\n",
              "      <th>4</th>\n",
              "      <td>1.4</td>\n",
              "      <td>0.2</td>\n",
              "    </tr>\n",
              "  </tbody>\n",
              "</table>\n",
              "</div>\n",
              "      <button class=\"colab-df-convert\" onclick=\"convertToInteractive('df-f65b3d6b-829e-40ea-bcdd-6f7f987251b9')\"\n",
              "              title=\"Convert this dataframe to an interactive table.\"\n",
              "              style=\"display:none;\">\n",
              "        \n",
              "  <svg xmlns=\"http://www.w3.org/2000/svg\" height=\"24px\"viewBox=\"0 0 24 24\"\n",
              "       width=\"24px\">\n",
              "    <path d=\"M0 0h24v24H0V0z\" fill=\"none\"/>\n",
              "    <path d=\"M18.56 5.44l.94 2.06.94-2.06 2.06-.94-2.06-.94-.94-2.06-.94 2.06-2.06.94zm-11 1L8.5 8.5l.94-2.06 2.06-.94-2.06-.94L8.5 2.5l-.94 2.06-2.06.94zm10 10l.94 2.06.94-2.06 2.06-.94-2.06-.94-.94-2.06-.94 2.06-2.06.94z\"/><path d=\"M17.41 7.96l-1.37-1.37c-.4-.4-.92-.59-1.43-.59-.52 0-1.04.2-1.43.59L10.3 9.45l-7.72 7.72c-.78.78-.78 2.05 0 2.83L4 21.41c.39.39.9.59 1.41.59.51 0 1.02-.2 1.41-.59l7.78-7.78 2.81-2.81c.8-.78.8-2.07 0-2.86zM5.41 20L4 18.59l7.72-7.72 1.47 1.35L5.41 20z\"/>\n",
              "  </svg>\n",
              "      </button>\n",
              "      \n",
              "  <style>\n",
              "    .colab-df-container {\n",
              "      display:flex;\n",
              "      flex-wrap:wrap;\n",
              "      gap: 12px;\n",
              "    }\n",
              "\n",
              "    .colab-df-convert {\n",
              "      background-color: #E8F0FE;\n",
              "      border: none;\n",
              "      border-radius: 50%;\n",
              "      cursor: pointer;\n",
              "      display: none;\n",
              "      fill: #1967D2;\n",
              "      height: 32px;\n",
              "      padding: 0 0 0 0;\n",
              "      width: 32px;\n",
              "    }\n",
              "\n",
              "    .colab-df-convert:hover {\n",
              "      background-color: #E2EBFA;\n",
              "      box-shadow: 0px 1px 2px rgba(60, 64, 67, 0.3), 0px 1px 3px 1px rgba(60, 64, 67, 0.15);\n",
              "      fill: #174EA6;\n",
              "    }\n",
              "\n",
              "    [theme=dark] .colab-df-convert {\n",
              "      background-color: #3B4455;\n",
              "      fill: #D2E3FC;\n",
              "    }\n",
              "\n",
              "    [theme=dark] .colab-df-convert:hover {\n",
              "      background-color: #434B5C;\n",
              "      box-shadow: 0px 1px 3px 1px rgba(0, 0, 0, 0.15);\n",
              "      filter: drop-shadow(0px 1px 2px rgba(0, 0, 0, 0.3));\n",
              "      fill: #FFFFFF;\n",
              "    }\n",
              "  </style>\n",
              "\n",
              "      <script>\n",
              "        const buttonEl =\n",
              "          document.querySelector('#df-f65b3d6b-829e-40ea-bcdd-6f7f987251b9 button.colab-df-convert');\n",
              "        buttonEl.style.display =\n",
              "          google.colab.kernel.accessAllowed ? 'block' : 'none';\n",
              "\n",
              "        async function convertToInteractive(key) {\n",
              "          const element = document.querySelector('#df-f65b3d6b-829e-40ea-bcdd-6f7f987251b9');\n",
              "          const dataTable =\n",
              "            await google.colab.kernel.invokeFunction('convertToInteractive',\n",
              "                                                     [key], {});\n",
              "          if (!dataTable) return;\n",
              "\n",
              "          const docLinkHtml = 'Like what you see? Visit the ' +\n",
              "            '<a target=\"_blank\" href=https://colab.research.google.com/notebooks/data_table.ipynb>data table notebook</a>'\n",
              "            + ' to learn more about interactive tables.';\n",
              "          element.innerHTML = '';\n",
              "          dataTable['output_type'] = 'display_data';\n",
              "          await google.colab.output.renderOutput(dataTable, element);\n",
              "          const docLink = document.createElement('div');\n",
              "          docLink.innerHTML = docLinkHtml;\n",
              "          element.appendChild(docLink);\n",
              "        }\n",
              "      </script>\n",
              "    </div>\n",
              "  </div>\n",
              "  "
            ]
          },
          "metadata": {},
          "execution_count": 12
        }
      ]
    },
    {
      "cell_type": "code",
      "source": [
        "# Scaling our both features using MinMaxScaler\n",
        "df=scaleDf(df)"
      ],
      "metadata": {
        "id": "r_wtYNR7Y39T"
      },
      "execution_count": 13,
      "outputs": []
    },
    {
      "cell_type": "code",
      "source": [
        "# View of df after scaling\n",
        "df.head()"
      ],
      "metadata": {
        "colab": {
          "base_uri": "https://localhost:8080/",
          "height": 206
        },
        "id": "Wz0Ot241Uzt7",
        "outputId": "4dfad678-f5aa-42d5-a519-708cceae8145"
      },
      "execution_count": 14,
      "outputs": [
        {
          "output_type": "execute_result",
          "data": {
            "text/plain": [
              "         pl        pw\n",
              "0  0.067797  0.041667\n",
              "1  0.067797  0.041667\n",
              "2  0.050847  0.041667\n",
              "3  0.084746  0.041667\n",
              "4  0.067797  0.041667"
            ],
            "text/html": [
              "\n",
              "  <div id=\"df-b56fba49-564a-4e76-92f4-f7ee6d4b1682\">\n",
              "    <div class=\"colab-df-container\">\n",
              "      <div>\n",
              "<style scoped>\n",
              "    .dataframe tbody tr th:only-of-type {\n",
              "        vertical-align: middle;\n",
              "    }\n",
              "\n",
              "    .dataframe tbody tr th {\n",
              "        vertical-align: top;\n",
              "    }\n",
              "\n",
              "    .dataframe thead th {\n",
              "        text-align: right;\n",
              "    }\n",
              "</style>\n",
              "<table border=\"1\" class=\"dataframe\">\n",
              "  <thead>\n",
              "    <tr style=\"text-align: right;\">\n",
              "      <th></th>\n",
              "      <th>pl</th>\n",
              "      <th>pw</th>\n",
              "    </tr>\n",
              "  </thead>\n",
              "  <tbody>\n",
              "    <tr>\n",
              "      <th>0</th>\n",
              "      <td>0.067797</td>\n",
              "      <td>0.041667</td>\n",
              "    </tr>\n",
              "    <tr>\n",
              "      <th>1</th>\n",
              "      <td>0.067797</td>\n",
              "      <td>0.041667</td>\n",
              "    </tr>\n",
              "    <tr>\n",
              "      <th>2</th>\n",
              "      <td>0.050847</td>\n",
              "      <td>0.041667</td>\n",
              "    </tr>\n",
              "    <tr>\n",
              "      <th>3</th>\n",
              "      <td>0.084746</td>\n",
              "      <td>0.041667</td>\n",
              "    </tr>\n",
              "    <tr>\n",
              "      <th>4</th>\n",
              "      <td>0.067797</td>\n",
              "      <td>0.041667</td>\n",
              "    </tr>\n",
              "  </tbody>\n",
              "</table>\n",
              "</div>\n",
              "      <button class=\"colab-df-convert\" onclick=\"convertToInteractive('df-b56fba49-564a-4e76-92f4-f7ee6d4b1682')\"\n",
              "              title=\"Convert this dataframe to an interactive table.\"\n",
              "              style=\"display:none;\">\n",
              "        \n",
              "  <svg xmlns=\"http://www.w3.org/2000/svg\" height=\"24px\"viewBox=\"0 0 24 24\"\n",
              "       width=\"24px\">\n",
              "    <path d=\"M0 0h24v24H0V0z\" fill=\"none\"/>\n",
              "    <path d=\"M18.56 5.44l.94 2.06.94-2.06 2.06-.94-2.06-.94-.94-2.06-.94 2.06-2.06.94zm-11 1L8.5 8.5l.94-2.06 2.06-.94-2.06-.94L8.5 2.5l-.94 2.06-2.06.94zm10 10l.94 2.06.94-2.06 2.06-.94-2.06-.94-.94-2.06-.94 2.06-2.06.94z\"/><path d=\"M17.41 7.96l-1.37-1.37c-.4-.4-.92-.59-1.43-.59-.52 0-1.04.2-1.43.59L10.3 9.45l-7.72 7.72c-.78.78-.78 2.05 0 2.83L4 21.41c.39.39.9.59 1.41.59.51 0 1.02-.2 1.41-.59l7.78-7.78 2.81-2.81c.8-.78.8-2.07 0-2.86zM5.41 20L4 18.59l7.72-7.72 1.47 1.35L5.41 20z\"/>\n",
              "  </svg>\n",
              "      </button>\n",
              "      \n",
              "  <style>\n",
              "    .colab-df-container {\n",
              "      display:flex;\n",
              "      flex-wrap:wrap;\n",
              "      gap: 12px;\n",
              "    }\n",
              "\n",
              "    .colab-df-convert {\n",
              "      background-color: #E8F0FE;\n",
              "      border: none;\n",
              "      border-radius: 50%;\n",
              "      cursor: pointer;\n",
              "      display: none;\n",
              "      fill: #1967D2;\n",
              "      height: 32px;\n",
              "      padding: 0 0 0 0;\n",
              "      width: 32px;\n",
              "    }\n",
              "\n",
              "    .colab-df-convert:hover {\n",
              "      background-color: #E2EBFA;\n",
              "      box-shadow: 0px 1px 2px rgba(60, 64, 67, 0.3), 0px 1px 3px 1px rgba(60, 64, 67, 0.15);\n",
              "      fill: #174EA6;\n",
              "    }\n",
              "\n",
              "    [theme=dark] .colab-df-convert {\n",
              "      background-color: #3B4455;\n",
              "      fill: #D2E3FC;\n",
              "    }\n",
              "\n",
              "    [theme=dark] .colab-df-convert:hover {\n",
              "      background-color: #434B5C;\n",
              "      box-shadow: 0px 1px 3px 1px rgba(0, 0, 0, 0.15);\n",
              "      filter: drop-shadow(0px 1px 2px rgba(0, 0, 0, 0.3));\n",
              "      fill: #FFFFFF;\n",
              "    }\n",
              "  </style>\n",
              "\n",
              "      <script>\n",
              "        const buttonEl =\n",
              "          document.querySelector('#df-b56fba49-564a-4e76-92f4-f7ee6d4b1682 button.colab-df-convert');\n",
              "        buttonEl.style.display =\n",
              "          google.colab.kernel.accessAllowed ? 'block' : 'none';\n",
              "\n",
              "        async function convertToInteractive(key) {\n",
              "          const element = document.querySelector('#df-b56fba49-564a-4e76-92f4-f7ee6d4b1682');\n",
              "          const dataTable =\n",
              "            await google.colab.kernel.invokeFunction('convertToInteractive',\n",
              "                                                     [key], {});\n",
              "          if (!dataTable) return;\n",
              "\n",
              "          const docLinkHtml = 'Like what you see? Visit the ' +\n",
              "            '<a target=\"_blank\" href=https://colab.research.google.com/notebooks/data_table.ipynb>data table notebook</a>'\n",
              "            + ' to learn more about interactive tables.';\n",
              "          element.innerHTML = '';\n",
              "          dataTable['output_type'] = 'display_data';\n",
              "          await google.colab.output.renderOutput(dataTable, element);\n",
              "          const docLink = document.createElement('div');\n",
              "          docLink.innerHTML = docLinkHtml;\n",
              "          element.appendChild(docLink);\n",
              "        }\n",
              "      </script>\n",
              "    </div>\n",
              "  </div>\n",
              "  "
            ]
          },
          "metadata": {},
          "execution_count": 14
        }
      ]
    },
    {
      "cell_type": "code",
      "source": [
        "# plotting original cluters (along with clusters centers)\n",
        "plotClusters(df,labels,get_cluster_centers(df,labels))"
      ],
      "metadata": {
        "colab": {
          "base_uri": "https://localhost:8080/",
          "height": 279
        },
        "id": "rcTX-ekAWFos",
        "outputId": "3bd7fde3-bc59-4f97-cd1a-651ab5760938"
      },
      "execution_count": 15,
      "outputs": [
        {
          "output_type": "display_data",
          "data": {
            "text/plain": [
              "<Figure size 432x288 with 1 Axes>"
            ],
            "image/png": "[encoded data removed]"
          },
          "metadata": {
            "needs_background": "light"
          }
        }
      ]
    },
    {
      "cell_type": "markdown",
      "source": [
        "###**DBSCAN using of Sklearn Library**"
      ],
      "metadata": {
        "id": "ita0BpiGbqWu"
      }
    },
    {
      "cell_type": "code",
      "source": [
        "#creating our DBSCAN model using sklearn\n",
        "model=DBSCAN(eps=0.06, min_samples=3)\n",
        "#fit the df in our model\n",
        "model.fit(df)\n",
        "# predicted labels by model\n",
        "predicted_labels=pd.Series(model.labels_)"
      ],
      "metadata": {
        "id": "92p6BQUwZwaD"
      },
      "execution_count": 16,
      "outputs": []
    },
    {
      "cell_type": "code",
      "source": [
        "predicted_labels.unique()"
      ],
      "metadata": {
        "colab": {
          "base_uri": "https://localhost:8080/"
        },
        "id": "DcPQirOpJWlN",
        "outputId": "5bb94964-bdcf-4c11-e1af-2832019cb3c4"
      },
      "execution_count": 17,
      "outputs": [
        {
          "output_type": "execute_result",
          "data": {
            "text/plain": [
              "array([ 0,  1, -1,  2])"
            ]
          },
          "metadata": {},
          "execution_count": 17
        }
      ]
    },
    {
      "cell_type": "code",
      "source": [
        "#Printing the sklearn DB_SCAN Model specifications\n",
        "print(\"sklearn DB_SCAN model Specifications :-\")\n",
        "print(\"inertia_ : \",getInertia(df,predicted_labels))\n",
        "print(\"n_features = \",model.n_features_in_)\n",
        "print(\"\")"
      ],
      "metadata": {
        "colab": {
          "base_uri": "https://localhost:8080/"
        },
        "id": "SjWbXIfrVCJj",
        "outputId": "b0c6a447-12ad-47f8-8897-32fac5dd98e0"
      },
      "execution_count": 18,
      "outputs": [
        {
          "output_type": "stream",
          "name": "stdout",
          "text": [
            "sklearn DB_SCAN model Specifications :-\n",
            "inertia_ :  4.259187457075546\n",
            "n_features =  2\n",
            "\n"
          ]
        }
      ]
    },
    {
      "cell_type": "code",
      "source": [
        "# plotting predicted cluters (along with clusters centers) using sklearn DBSCAN model\n",
        "'''\n",
        "Colors of clusters are diffrent because K-means is Unsupervised learning so,\n",
        "it autimatically put cluster names as 0,1,2...\n",
        "'''\n",
        "plotClusters(df,predicted_labels,get_cluster_centers(df,predicted_labels))"
      ],
      "metadata": {
        "id": "aVFgE4J0Enxa",
        "colab": {
          "base_uri": "https://localhost:8080/",
          "height": 279
        },
        "outputId": "beb43bbb-c03d-47a3-91e8-ae41958db629"
      },
      "execution_count": 19,
      "outputs": [
        {
          "output_type": "display_data",
          "data": {
            "text/plain": [
              "<Figure size 432x288 with 1 Axes>"
            ],
            "image/png": "[encoded data removed]"
          },
          "metadata": {
            "needs_background": "light"
          }
        }
      ]
    },
    {
      "cell_type": "markdown",
      "source": [
        "###**DB_SCAN Using Our Algorithm**"
      ],
      "metadata": {
        "id": "atR5aDpcb-F9"
      }
    },
    {
      "cell_type": "code",
      "source": [
        "# Now Using Our DB_SCAN Model\n",
        "mymodel=DB_SCAN(eps=0.06,min_samples=3)\n",
        "#fit the df in our model\n",
        "mymodel.fit(df)\n",
        "# predicted labels by model\n",
        "my_predicted_labels=mymodel.labels_"
      ],
      "metadata": {
        "id": "3zdG1Tu-XGDt"
      },
      "execution_count": 20,
      "outputs": []
    },
    {
      "cell_type": "code",
      "source": [
        "#Printing my DB_SCAN Model specifications\n",
        "print(mymodel.specs_())"
      ],
      "metadata": {
        "colab": {
          "base_uri": "https://localhost:8080/"
        },
        "id": "nGzodjDlXrMN",
        "outputId": "6c46f5e5-99b6-45c8-a75a-63acd42102a0"
      },
      "execution_count": 21,
      "outputs": [
        {
          "output_type": "stream",
          "name": "stdout",
          "text": [
            "{'inertia_': 4.259187457075546, 'cluster_cnt_': 3, 'cluster_centers_': array([[0.07830508, 0.06083333],\n",
            "       [0.64872416, 0.65247253],\n",
            "       [0.95932203, 0.84166667]]), 'n_features_in_': 150}\n"
          ]
        }
      ]
    },
    {
      "cell_type": "code",
      "source": [
        "# plotting predicted cluters (along with clusters centers) using my DB_SCAN model\n",
        "'''\n",
        "Colors of clusters are diffrent because K_Means is Unsupervised learning so,\n",
        "it autimatically put cluster names as 0,1,2...\n",
        "'''\n",
        "plotClusters(df,my_predicted_labels,mymodel.cluster_centers_)"
      ],
      "metadata": {
        "colab": {
          "base_uri": "https://localhost:8080/",
          "height": 279
        },
        "id": "-1hNk129ZZp-",
        "outputId": "b11a9678-43d4-4819-9ed1-bb1cba41fc49"
      },
      "execution_count": 22,
      "outputs": [
        {
          "output_type": "display_data",
          "data": {
            "text/plain": [
              "<Figure size 432x288 with 1 Axes>"
            ],
            "image/png": "[encoded data removed]"
          },
          "metadata": {
            "needs_background": "light"
          }
        }
      ]
    },
    {
      "cell_type": "markdown",
      "source": [
        "###As we can see the DBSCAN is not suitable for iris dataset!!!"
      ],
      "metadata": {
        "id": "CINknaZuVG3z"
      }
    },
    {
      "cell_type": "markdown",
      "source": [
        "\n",
        "###**Running DBSCAN on suitable data for DBSCAN**"
      ],
      "metadata": {
        "id": "sHFJ4MQGPxMj"
      }
    },
    {
      "cell_type": "code",
      "source": [
        "# Generating suitable dataset\n",
        "n_samples=250\n",
        "noisy_moons = datasets.make_circles(n_samples=n_samples, noise=.03,factor=0.5)\n",
        "X = noisy_moons[0]\n",
        "good_df=pd.DataFrame(data=X,columns=['x','y'])"
      ],
      "metadata": {
        "id": "YkAV2eAdPvOt"
      },
      "execution_count": 23,
      "outputs": []
    },
    {
      "cell_type": "code",
      "source": [
        "good_df.head()"
      ],
      "metadata": {
        "colab": {
          "base_uri": "https://localhost:8080/",
          "height": 206
        },
        "id": "IS5N7BkcQlG0",
        "outputId": "4dd5623c-ecad-4ba8-f97f-705a3810fda4"
      },
      "execution_count": 24,
      "outputs": [
        {
          "output_type": "execute_result",
          "data": {
            "text/plain": [
              "          x         y\n",
              "0  0.448898 -0.113942\n",
              "1 -0.837845 -0.555223\n",
              "2 -0.432214 -0.198767\n",
              "3 -1.030692 -0.167798\n",
              "4 -0.403369 -0.240588"
            ],
            "text/html": [
              "\n",
              "  <div id=\"df-9e70d396-75d9-4df1-a555-c10c59f90653\">\n",
              "    <div class=\"colab-df-container\">\n",
              "      <div>\n",
              "<style scoped>\n",
              "    .dataframe tbody tr th:only-of-type {\n",
              "        vertical-align: middle;\n",
              "    }\n",
              "\n",
              "    .dataframe tbody tr th {\n",
              "        vertical-align: top;\n",
              "    }\n",
              "\n",
              "    .dataframe thead th {\n",
              "        text-align: right;\n",
              "    }\n",
              "</style>\n",
              "<table border=\"1\" class=\"dataframe\">\n",
              "  <thead>\n",
              "    <tr style=\"text-align: right;\">\n",
              "      <th></th>\n",
              "      <th>x</th>\n",
              "      <th>y</th>\n",
              "    </tr>\n",
              "  </thead>\n",
              "  <tbody>\n",
              "    <tr>\n",
              "      <th>0</th>\n",
              "      <td>0.448898</td>\n",
              "      <td>-0.113942</td>\n",
              "    </tr>\n",
              "    <tr>\n",
              "      <th>1</th>\n",
              "      <td>-0.837845</td>\n",
              "      <td>-0.555223</td>\n",
              "    </tr>\n",
              "    <tr>\n",
              "      <th>2</th>\n",
              "      <td>-0.432214</td>\n",
              "      <td>-0.198767</td>\n",
              "    </tr>\n",
              "    <tr>\n",
              "      <th>3</th>\n",
              "      <td>-1.030692</td>\n",
              "      <td>-0.167798</td>\n",
              "    </tr>\n",
              "    <tr>\n",
              "      <th>4</th>\n",
              "      <td>-0.403369</td>\n",
              "      <td>-0.240588</td>\n",
              "    </tr>\n",
              "  </tbody>\n",
              "</table>\n",
              "</div>\n",
              "      <button class=\"colab-df-convert\" onclick=\"convertToInteractive('df-9e70d396-75d9-4df1-a555-c10c59f90653')\"\n",
              "              title=\"Convert this dataframe to an interactive table.\"\n",
              "              style=\"display:none;\">\n",
              "        \n",
              "  <svg xmlns=\"http://www.w3.org/2000/svg\" height=\"24px\"viewBox=\"0 0 24 24\"\n",
              "       width=\"24px\">\n",
              "    <path d=\"M0 0h24v24H0V0z\" fill=\"none\"/>\n",
              "    <path d=\"M18.56 5.44l.94 2.06.94-2.06 2.06-.94-2.06-.94-.94-2.06-.94 2.06-2.06.94zm-11 1L8.5 8.5l.94-2.06 2.06-.94-2.06-.94L8.5 2.5l-.94 2.06-2.06.94zm10 10l.94 2.06.94-2.06 2.06-.94-2.06-.94-.94-2.06-.94 2.06-2.06.94z\"/><path d=\"M17.41 7.96l-1.37-1.37c-.4-.4-.92-.59-1.43-.59-.52 0-1.04.2-1.43.59L10.3 9.45l-7.72 7.72c-.78.78-.78 2.05 0 2.83L4 21.41c.39.39.9.59 1.41.59.51 0 1.02-.2 1.41-.59l7.78-7.78 2.81-2.81c.8-.78.8-2.07 0-2.86zM5.41 20L4 18.59l7.72-7.72 1.47 1.35L5.41 20z\"/>\n",
              "  </svg>\n",
              "      </button>\n",
              "      \n",
              "  <style>\n",
              "    .colab-df-container {\n",
              "      display:flex;\n",
              "      flex-wrap:wrap;\n",
              "      gap: 12px;\n",
              "    }\n",
              "\n",
              "    .colab-df-convert {\n",
              "      background-color: #E8F0FE;\n",
              "      border: none;\n",
              "      border-radius: 50%;\n",
              "      cursor: pointer;\n",
              "      display: none;\n",
              "      fill: #1967D2;\n",
              "      height: 32px;\n",
              "      padding: 0 0 0 0;\n",
              "      width: 32px;\n",
              "    }\n",
              "\n",
              "    .colab-df-convert:hover {\n",
              "      background-color: #E2EBFA;\n",
              "      box-shadow: 0px 1px 2px rgba(60, 64, 67, 0.3), 0px 1px 3px 1px rgba(60, 64, 67, 0.15);\n",
              "      fill: #174EA6;\n",
              "    }\n",
              "\n",
              "    [theme=dark] .colab-df-convert {\n",
              "      background-color: #3B4455;\n",
              "      fill: #D2E3FC;\n",
              "    }\n",
              "\n",
              "    [theme=dark] .colab-df-convert:hover {\n",
              "      background-color: #434B5C;\n",
              "      box-shadow: 0px 1px 3px 1px rgba(0, 0, 0, 0.15);\n",
              "      filter: drop-shadow(0px 1px 2px rgba(0, 0, 0, 0.3));\n",
              "      fill: #FFFFFF;\n",
              "    }\n",
              "  </style>\n",
              "\n",
              "      <script>\n",
              "        const buttonEl =\n",
              "          document.querySelector('#df-9e70d396-75d9-4df1-a555-c10c59f90653 button.colab-df-convert');\n",
              "        buttonEl.style.display =\n",
              "          google.colab.kernel.accessAllowed ? 'block' : 'none';\n",
              "\n",
              "        async function convertToInteractive(key) {\n",
              "          const element = document.querySelector('#df-9e70d396-75d9-4df1-a555-c10c59f90653');\n",
              "          const dataTable =\n",
              "            await google.colab.kernel.invokeFunction('convertToInteractive',\n",
              "                                                     [key], {});\n",
              "          if (!dataTable) return;\n",
              "\n",
              "          const docLinkHtml = 'Like what you see? Visit the ' +\n",
              "            '<a target=\"_blank\" href=https://colab.research.google.com/notebooks/data_table.ipynb>data table notebook</a>'\n",
              "            + ' to learn more about interactive tables.';\n",
              "          element.innerHTML = '';\n",
              "          dataTable['output_type'] = 'display_data';\n",
              "          await google.colab.output.renderOutput(dataTable, element);\n",
              "          const docLink = document.createElement('div');\n",
              "          docLink.innerHTML = docLinkHtml;\n",
              "          element.appendChild(docLink);\n",
              "        }\n",
              "      </script>\n",
              "    </div>\n",
              "  </div>\n",
              "  "
            ]
          },
          "metadata": {},
          "execution_count": 24
        }
      ]
    },
    {
      "cell_type": "markdown",
      "source": [
        "###**DBSCAN on good data using of Sklearn Library**"
      ],
      "metadata": {
        "id": "gcpWWj4-Q2hT"
      }
    },
    {
      "cell_type": "code",
      "source": [
        "#creating our DBSCAN model using sklearn\n",
        "good_model=DBSCAN(eps=0.3, min_samples=10)\n",
        "#fit the good_df in our model\n",
        "good_model.fit(good_df)\n",
        "# predicted labels by model\n",
        "good_predicted_labels=pd.Series(good_model.labels_)"
      ],
      "metadata": {
        "id": "_L4InDgmQ2hU"
      },
      "execution_count": 25,
      "outputs": []
    },
    {
      "cell_type": "code",
      "source": [
        "good_predicted_labels.unique()"
      ],
      "metadata": {
        "colab": {
          "base_uri": "https://localhost:8080/"
        },
        "outputId": "b8340f9e-1ef6-45d9-e1a0-107e78178167",
        "id": "biE4e0VtQ2hU"
      },
      "execution_count": 26,
      "outputs": [
        {
          "output_type": "execute_result",
          "data": {
            "text/plain": [
              "array([0, 1])"
            ]
          },
          "metadata": {},
          "execution_count": 26
        }
      ]
    },
    {
      "cell_type": "code",
      "source": [
        "#Printing the sklearn DB_SCAN Model specifications\n",
        "print(\"sklearn DB_SCAN good_model Specifications :-\")\n",
        "print(\"inertia_ : \",getInertia(good_df,good_predicted_labels))\n",
        "print(\"n_features = \",good_model.n_features_in_)\n",
        "print(\"\")"
      ],
      "metadata": {
        "colab": {
          "base_uri": "https://localhost:8080/"
        },
        "outputId": "e5ddf986-5fd6-481e-838a-e050a23563f6",
        "id": "0ni9e856Q2hU"
      },
      "execution_count": 27,
      "outputs": [
        {
          "output_type": "stream",
          "name": "stdout",
          "text": [
            "sklearn DB_SCAN good_model Specifications :-\n",
            "inertia_ :  156.44404536756298\n",
            "n_features =  2\n",
            "\n"
          ]
        }
      ]
    },
    {
      "cell_type": "code",
      "source": [
        "# plotting predicted cluters (along with clusters centers) using sklearn DBSCAN model\n",
        "'''\n",
        "Colors of clusters are diffrent because DBSCAN is Unsupervised learning so,\n",
        "it autimatically put cluster names as 0,1,2...\n",
        "'''\n",
        "plotClusters(good_df,good_predicted_labels,get_cluster_centers(good_df,good_predicted_labels))"
      ],
      "metadata": {
        "colab": {
          "base_uri": "https://localhost:8080/",
          "height": 279
        },
        "outputId": "77266e58-39a9-497f-c4da-e58981cdfdfc",
        "id": "mFQYH1_UQ2hU"
      },
      "execution_count": 28,
      "outputs": [
        {
          "output_type": "display_data",
          "data": {
            "text/plain": [
              "<Figure size 432x288 with 1 Axes>"
            ],
            "image/png": "[encoded data removed]"
          },
          "metadata": {
            "needs_background": "light"
          }
        }
      ]
    },
    {
      "cell_type": "markdown",
      "source": [
        "###**DBSCAN on good data using of my Algo**"
      ],
      "metadata": {
        "id": "5rX2m1QySlpM"
      }
    },
    {
      "cell_type": "code",
      "source": [
        "#creating our DBSCAN model using my Algo\n",
        "my_good_model=DB_SCAN(eps=0.3, min_samples=10)\n",
        "#fit the good_df in our mymodel\n",
        "my_good_model.fit(good_df)\n",
        "# predicted labels by mymodel\n",
        "my_good_predicted_labels=pd.Series(my_good_model.labels_)"
      ],
      "metadata": {
        "id": "s-t9uyCgSlpM"
      },
      "execution_count": 29,
      "outputs": []
    },
    {
      "cell_type": "code",
      "source": [
        "my_good_predicted_labels.unique()"
      ],
      "metadata": {
        "colab": {
          "base_uri": "https://localhost:8080/"
        },
        "outputId": "2259c995-06e4-49cc-a4cf-17bbedff9626",
        "id": "Y1jVcz94SlpM"
      },
      "execution_count": 30,
      "outputs": [
        {
          "output_type": "execute_result",
          "data": {
            "text/plain": [
              "array([0., 1.])"
            ]
          },
          "metadata": {},
          "execution_count": 30
        }
      ]
    },
    {
      "cell_type": "code",
      "source": [
        "#Printing  DB_SCAN my_good_model specifications\n",
        "print(my_good_model.specs_())"
      ],
      "metadata": {
        "colab": {
          "base_uri": "https://localhost:8080/"
        },
        "outputId": "4622f412-91e7-4b85-fad3-bd7d2344f008",
        "id": "eeapywhuSlpM"
      },
      "execution_count": 31,
      "outputs": [
        {
          "output_type": "stream",
          "name": "stdout",
          "text": [
            "{'inertia_': 156.44404536756298, 'cluster_cnt_': 2, 'cluster_centers_': array([[ 0.00331548, -0.00814426],\n",
            "       [ 0.0015024 , -0.00164222]]), 'n_features_in_': 250}\n"
          ]
        }
      ]
    },
    {
      "cell_type": "code",
      "source": [
        "# plotting predicted cluters (along with clusters centers) using my DB_SCAN model\n",
        "'''\n",
        "Colors of clusters are diffrent because DBSCAN is Unsupervised learning so,\n",
        "it autimatically put cluster names as 0,1,2...\n",
        "'''\n",
        "plotClusters(good_df,my_good_predicted_labels,my_good_model.cluster_centers_)"
      ],
      "metadata": {
        "colab": {
          "base_uri": "https://localhost:8080/",
          "height": 279
        },
        "outputId": "dfb82155-1ed1-4229-beff-e191999bc9a5",
        "id": "cqrPAqTNSlpN"
      },
      "execution_count": 32,
      "outputs": [
        {
          "output_type": "display_data",
          "data": {
            "text/plain": [
              "<Figure size 432x288 with 1 Axes>"
            ],
            "image/png": "[encoded data removed]"
          },
          "metadata": {
            "needs_background": "light"
          }
        }
      ]
    },
    {
      "cell_type": "markdown",
      "source": [
        "***Any Improvments or Suggestions are welcomed***"
      ],
      "metadata": {
        "id": "I7tcsdjRckBW"
      }
    },
    {
      "cell_type": "markdown",
      "source": [
        "###**Thank You** 🙂\n",
        "\n",
        "\n",
        "\n",
        "\n",
        "\n"
      ],
      "metadata": {
        "id": "8jPE7k37Jb2M"
      }
    },
    {
      "cell_type": "markdown",
      "source": [
        "Created by : Abhijit Kumar (CSE student at NIT Durgapur)\n",
        "\n",
        "Date : 15-11-2022\n",
        "\n",
        "**©AbhijitKumar**"
      ],
      "metadata": {
        "id": "bI6qqHpTcMd_"
      }
    }
  ]
}